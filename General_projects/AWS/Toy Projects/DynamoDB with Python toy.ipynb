{
 "cells": [
  {
   "cell_type": "markdown",
   "id": "765ba01b",
   "metadata": {},
   "source": [
    "This adapted from a Coursera project, my contribution was around adapting the code to run in a modern AWS environment - primarily around IAM (access_key & secret_key.). Before doing this project I had no idea that this could be done - using a local Note Book to create a DynamoDB table."
   ]
  },
  {
   "cell_type": "code",
   "execution_count": 12,
   "id": "b822b37d",
   "metadata": {},
   "outputs": [],
   "source": [
    "import boto3\n",
    "from botocore.exceptions import ClientError\n",
    "from pprint import pprint"
   ]
  },
  {
   "cell_type": "code",
   "execution_count": 13,
   "id": "859034ad",
   "metadata": {},
   "outputs": [],
   "source": [
    " # Define access key and secret key\n",
    "access_key = '<your access key>'\n",
    "secret_key = '<your secret key>'\n",
    "\n",
    "# Create a session using the access key, secret key, region.\n",
    "session = boto3.Session(\n",
    "    aws_access_key_id=access_key,\n",
    "    aws_secret_access_key=secret_key,\n",
    "    region_name='us-east-2'  \n",
    ")\n",
    "\n",
    "# Initialize the DynamoDB resource using the session\n",
    "dynamodb = session.resource('dynamodb')"
   ]
  },
  {
   "cell_type": "code",
   "execution_count": 14,
   "id": "df27fe90",
   "metadata": {},
   "outputs": [],
   "source": [
    "table = dynamodb.create_table(\n",
    "    TableName='Books02',\n",
    "    KeySchema=[\n",
    "        {\n",
    "            'AttributeName': 'Author',\n",
    "            'KeyType': 'HASH'  # Partition key\n",
    "        },\n",
    "        {\n",
    "            'AttributeName': 'Title',\n",
    "            'KeyType': 'RANGE'  # Sort key\n",
    "        }\n",
    "    ],\n",
    "    AttributeDefinitions=[\n",
    "        {\n",
    "            'AttributeName': 'Author',\n",
    "            'AttributeType': 'S'\n",
    "        },\n",
    "        {\n",
    "            'AttributeName': 'Title',\n",
    "            'AttributeType': 'S'\n",
    "        }\n",
    "    ],\n",
    "    ProvisionedThroughput={\n",
    "        'ReadCapacityUnits': 10,\n",
    "        'WriteCapacityUnits': 10\n",
    "    }\n",
    ")\n"
   ]
  },
  {
   "cell_type": "code",
   "execution_count": 15,
   "id": "e065a310",
   "metadata": {},
   "outputs": [
    {
     "name": "stdout",
     "output_type": "stream",
     "text": [
      "CREATING\n"
     ]
    }
   ],
   "source": [
    "print(table.table_status)"
   ]
  },
  {
   "cell_type": "code",
   "execution_count": 16,
   "id": "66cc599b",
   "metadata": {},
   "outputs": [
    {
     "name": "stdout",
     "output_type": "stream",
     "text": [
      "[{'Author': 'John Grisham', 'Title': 'The Rainmaker', 'Category': 'Suspense', 'Formats': {'Hardcover': 'J4SUKVGU', 'Paperback': 'D7YF4FCX'}}, {'Author': 'John Grisham', 'Title': 'The Firm', 'Category': 'Suspense', 'Formats': {'Hardcover': 'Q7QWE3U2', 'Paperback': 'ZVZAYY4F', 'Audiobook': 'DJ9KS9NM'}}, {'Author': 'James Patterson', 'Title': 'Along Came a Spider', 'Category': 'Suspense', 'Formats': {'Hardcover': 'C9NR6RJ7', 'Paperback': '37JVGDZG', 'Audiobook': '6348WX3U'}}, {'Author': 'Dr. Seuss', 'Title': 'Green Eggs and Ham', 'Category': 'Children', 'Formats': {'Hardcover': 'GVJZQ7JK', 'Paperback': 'A4TFUR98', 'Audiobook': 'XWMGHW96'}}, {'Author': 'William Shakespeare', 'Title': 'Hamlet', 'Category': 'Drama', 'Formats': {'Hardcover': 'GVJZQ7JK', 'Paperback': 'A4TFUR98', 'Audiobook': 'XWMGHW96'}}]\n"
     ]
    }
   ],
   "source": [
    "import json\n",
    "from decimal import Decimal\n",
    "with open('books_data.json') as json_file:\n",
    "    books_list = json.load(json_file,parse_float=Decimal)\n",
    "#confirm   \n",
    "print(books_list)"
   ]
  },
  {
   "cell_type": "code",
   "execution_count": 17,
   "id": "a1971d32",
   "metadata": {},
   "outputs": [
    {
     "name": "stdout",
     "output_type": "stream",
     "text": [
      "The Rainmaker\n",
      "The Firm\n",
      "Along Came a Spider\n",
      "Green Eggs and Ham\n",
      "Hamlet\n"
     ]
    },
    {
     "data": {
      "text/plain": [
       "{'ResponseMetadata': {'RequestId': 'DGLJ6SJTKMLTMR8RBVR128AVPRVV4KQNSO5AEMVJF66Q9ASUAAJG',\n",
       "  'HTTPStatusCode': 200,\n",
       "  'HTTPHeaders': {'server': 'Server',\n",
       "   'date': 'Mon, 22 Jul 2024 16:30:20 GMT',\n",
       "   'content-type': 'application/x-amz-json-1.0',\n",
       "   'content-length': '2',\n",
       "   'connection': 'keep-alive',\n",
       "   'x-amzn-requestid': 'DGLJ6SJTKMLTMR8RBVR128AVPRVV4KQNSO5AEMVJF66Q9ASUAAJG',\n",
       "   'x-amz-crc32': '2745614147'},\n",
       "  'RetryAttempts': 0}}"
      ]
     },
     "execution_count": 17,
     "metadata": {},
     "output_type": "execute_result"
    }
   ],
   "source": [
    "#'HTTPStatusCode': 200 response code will mean success\n",
    "#load data\n",
    "for book in books_list:\n",
    "    print(book['Title'])\n",
    "table.put_item(Item = book)"
   ]
  },
  {
   "cell_type": "code",
   "execution_count": 18,
   "id": "dd8b7b59",
   "metadata": {},
   "outputs": [
    {
     "name": "stdout",
     "output_type": "stream",
     "text": [
      "{'ResponseMetadata': {'RequestId': 'S078T1JCC675BHJA4MDJCIKV13VV4KQNSO5AEMVJF66Q9ASUAAJG', 'HTTPStatusCode': 200, 'HTTPHeaders': {'server': 'Server', 'date': 'Mon, 22 Jul 2024 16:30:24 GMT', 'content-type': 'application/x-amz-json-1.0', 'content-length': '2', 'connection': 'keep-alive', 'x-amzn-requestid': 'S078T1JCC675BHJA4MDJCIKV13VV4KQNSO5AEMVJF66Q9ASUAAJG', 'x-amz-crc32': '2745614147'}, 'RetryAttempts': 0}}\n"
     ]
    }
   ],
   "source": [
    "#insert item\n",
    "table = dynamodb.Table('Books02')\n",
    "response = table.put_item(\n",
    "    Item={\n",
    "        'Author': 'Mr Hopps',\n",
    "        'Title': 'Hopps Guide to AWS',\n",
    "        'Category': 'AWS DIY',\n",
    "        'Formats': {\n",
    "            'folio': 'xxx001',\n",
    "            'Special Collectors': 'xxx002'\n",
    "        }\n",
    "    }\n",
    ")\n",
    "\n",
    "# Confirm insert\n",
    "print(response)"
   ]
  },
  {
   "cell_type": "code",
   "execution_count": 19,
   "id": "558a290a",
   "metadata": {},
   "outputs": [
    {
     "name": "stdout",
     "output_type": "stream",
     "text": [
      "{'Title': 'Hopps Guide to AWS', 'Formats': {'folio': 'xxx001', 'Special Collectors': 'xxx002'}, 'Author': 'Mr Hopps', 'Category': 'AWS DIY'}\n"
     ]
    }
   ],
   "source": [
    "#read an item\n",
    "# read an item\n",
    "author = 'Mr Hopps'\n",
    "title = 'Hopps Guide to AWS'\n",
    "try:\n",
    "    response = table.get_item(Key = {'Author':author, 'Title':title})\n",
    "except ClientError as e:\n",
    "    print(e.response['Error']['Message'])\n",
    "else:\n",
    "    print(response['Item'])"
   ]
  },
  {
   "cell_type": "code",
   "execution_count": 20,
   "id": "ff6c2f18",
   "metadata": {},
   "outputs": [
    {
     "name": "stdout",
     "output_type": "stream",
     "text": [
      "{'Attributes': {'Category': 'Suspense'}, 'ResponseMetadata': {'RequestId': 'NJCADIQHG4JO1USP9VGV4D6CMFVV4KQNSO5AEMVJF66Q9ASUAAJG', 'HTTPStatusCode': 200, 'HTTPHeaders': {'server': 'Server', 'date': 'Mon, 22 Jul 2024 16:30:46 GMT', 'content-type': 'application/x-amz-json-1.0', 'content-length': '44', 'connection': 'keep-alive', 'x-amzn-requestid': 'NJCADIQHG4JO1USP9VGV4D6CMFVV4KQNSO5AEMVJF66Q9ASUAAJG', 'x-amz-crc32': '320359638'}, 'RetryAttempts': 0}}\n"
     ]
    }
   ],
   "source": [
    "# Update an item\n",
    "category = 'Suspense'\n",
    "response = table.update_item(\n",
    "    Key={\n",
    "        'Author': author,\n",
    "        'Title': title\n",
    "    },\n",
    "    UpdateExpression='SET Category = :c',\n",
    "    ExpressionAttributeValues={\n",
    "        ':c': category\n",
    "    },\n",
    "    ReturnValues='UPDATED_NEW'\n",
    ")\n",
    "\n",
    "print(response)\n"
   ]
  },
  {
   "cell_type": "code",
   "execution_count": 21,
   "id": "3e1fc4cc",
   "metadata": {},
   "outputs": [
    {
     "name": "stdout",
     "output_type": "stream",
     "text": [
      "{'Items': [], 'Count': 0, 'ScannedCount': 0, 'ResponseMetadata': {'RequestId': 'JH60MJ1JS3JG6RAFS939PO7TMFVV4KQNSO5AEMVJF66Q9ASUAAJG', 'HTTPStatusCode': 200, 'HTTPHeaders': {'server': 'Server', 'date': 'Mon, 22 Jul 2024 16:30:49 GMT', 'content-type': 'application/x-amz-json-1.0', 'content-length': '39', 'connection': 'keep-alive', 'x-amzn-requestid': 'JH60MJ1JS3JG6RAFS939PO7TMFVV4KQNSO5AEMVJF66Q9ASUAAJG', 'x-amz-crc32': '3413411624'}, 'RetryAttempts': 0}}\n"
     ]
    }
   ],
   "source": [
    "# Query example\n",
    "from boto3.dynamodb.conditions import Key\n",
    "\n",
    "response = table.query(\n",
    "    ProjectionExpression='Title, Category, #ft',\n",
    "    ExpressionAttributeNames={'#ft': 'Format'},\n",
    "    KeyConditionExpression=Key('Author').eq('JohnGrisham')\n",
    ")\n",
    "\n",
    "print(response)"
   ]
  },
  {
   "cell_type": "code",
   "execution_count": null,
   "id": "2418ea0b",
   "metadata": {},
   "outputs": [],
   "source": []
  }
 ],
 "metadata": {
  "kernelspec": {
   "display_name": "Python 3 (ipykernel)",
   "language": "python",
   "name": "python3"
  },
  "language_info": {
   "codemirror_mode": {
    "name": "ipython",
    "version": 3
   },
   "file_extension": ".py",
   "mimetype": "text/x-python",
   "name": "python",
   "nbconvert_exporter": "python",
   "pygments_lexer": "ipython3",
   "version": "3.11.4"
  }
 },
 "nbformat": 4,
 "nbformat_minor": 5
}
