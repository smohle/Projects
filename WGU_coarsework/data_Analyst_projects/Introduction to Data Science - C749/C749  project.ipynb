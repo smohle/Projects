{
 "cells": [
  {
   "cell_type": "markdown",
   "id": "b585f231",
   "metadata": {},
   "source": [
    "Project - Investigate TMDb movie data set\n",
    "\n",
    "Summary: \n",
    "    This project Uses the TMDB(The Movie Database) data set to determine common characteristics of the most profitable films in the data base. The central idea being what factors are indicators that a film will be successful financially based on the top 80% of profitable films. This data set contains information about roughly 11,000 films (10,866). The following information for each film is provided (column headings): id, imdb_id, popularity, budget revenue original_title cast, homepage, director, tagline, keywords, overview, runtime, genres, production_companies, release_date, vote_count, vote average, release_year, budget_adj, revenue_adj. Notes about the columns: the 'cast', 'genres', and 'keywords' columns have multiple pipe (|) delimited values, the two columns ending in _adj show the budget and revenue are amounts stated in 2010 dollars. \n",
    "    This project will explore what varaibles are associated with high profit movies. Variables of interest from the data set will be director and runtime. In addition calculated variables of interest will be release_month (derived from release_year), release_DOW (DOW = day of week) (derived from release_year), release date of month(DOM) (derived from release year). All variables of interest will be forward looking, I.E. variables that would be under the control of the film maker prior to the start of production, as such things such as vote_count and vote_average are irrelevant for the purposes of this study as this is information post release and outside a predictive analysis.\n",
    "    \n",
    "Methodology\n",
    "   1. load Tmdb data base as a a csv file\n",
    "   2. Drop columns of no interest.\n",
    "   3. Check for duplicated rows in data set\n",
    "   4. Drop any rows determined to be duplicates\n",
    "   5. Determine if the basis for the calculated column are missing any values\n",
    "   6. add calculated column ( net_revenue = revenue_adj - budget_adj). This column will indicate total profit.\n",
    "   7. Add column with a numeric value of which month the movie was released in.\n",
    "   8. Create a new dataframe consisting of the movies in the top 80 percent of variabilty\n",
    "   9. Inspect dataframe and clean as necessary.\n",
    "   10. Create a new calculated column for day of the week, day of the month, and month number the movie was released on and. \n",
    "   11. plot results for variables of interest\n",
    "   12. Report insights.\n",
    "\n",
    "Note frequent use of movieDB.shape is a control measure."
   ]
  },
  {
   "cell_type": "code",
   "execution_count": 2,
   "id": "fe0e2ab4",
   "metadata": {},
   "outputs": [
    {
     "data": {
      "text/html": [
       "<div>\n",
       "<style scoped>\n",
       "    .dataframe tbody tr th:only-of-type {\n",
       "        vertical-align: middle;\n",
       "    }\n",
       "\n",
       "    .dataframe tbody tr th {\n",
       "        vertical-align: top;\n",
       "    }\n",
       "\n",
       "    .dataframe thead th {\n",
       "        text-align: right;\n",
       "    }\n",
       "</style>\n",
       "<table border=\"1\" class=\"dataframe\">\n",
       "  <thead>\n",
       "    <tr style=\"text-align: right;\">\n",
       "      <th></th>\n",
       "      <th>id</th>\n",
       "      <th>imdb_id</th>\n",
       "      <th>popularity</th>\n",
       "      <th>budget</th>\n",
       "      <th>revenue</th>\n",
       "      <th>original_title</th>\n",
       "      <th>cast</th>\n",
       "      <th>homepage</th>\n",
       "      <th>director</th>\n",
       "      <th>tagline</th>\n",
       "      <th>...</th>\n",
       "      <th>overview</th>\n",
       "      <th>runtime</th>\n",
       "      <th>genres</th>\n",
       "      <th>production_companies</th>\n",
       "      <th>release_date</th>\n",
       "      <th>vote_count</th>\n",
       "      <th>vote_average</th>\n",
       "      <th>release_year</th>\n",
       "      <th>budget_adj</th>\n",
       "      <th>revenue_adj</th>\n",
       "    </tr>\n",
       "  </thead>\n",
       "  <tbody>\n",
       "    <tr>\n",
       "      <th>0</th>\n",
       "      <td>135397</td>\n",
       "      <td>tt0369610</td>\n",
       "      <td>32.985763</td>\n",
       "      <td>150000000</td>\n",
       "      <td>1513528810</td>\n",
       "      <td>Jurassic World</td>\n",
       "      <td>Chris Pratt|Bryce Dallas Howard|Irrfan Khan|Vi...</td>\n",
       "      <td>http://www.jurassicworld.com/</td>\n",
       "      <td>Colin Trevorrow</td>\n",
       "      <td>The park is open.</td>\n",
       "      <td>...</td>\n",
       "      <td>Twenty-two years after the events of Jurassic ...</td>\n",
       "      <td>124</td>\n",
       "      <td>Action|Adventure|Science Fiction|Thriller</td>\n",
       "      <td>Universal Studios|Amblin Entertainment|Legenda...</td>\n",
       "      <td>6/9/15</td>\n",
       "      <td>5562</td>\n",
       "      <td>6.5</td>\n",
       "      <td>2015</td>\n",
       "      <td>1.379999e+08</td>\n",
       "      <td>1.392446e+09</td>\n",
       "    </tr>\n",
       "    <tr>\n",
       "      <th>1</th>\n",
       "      <td>76341</td>\n",
       "      <td>tt1392190</td>\n",
       "      <td>28.419936</td>\n",
       "      <td>150000000</td>\n",
       "      <td>378436354</td>\n",
       "      <td>Mad Max: Fury Road</td>\n",
       "      <td>Tom Hardy|Charlize Theron|Hugh Keays-Byrne|Nic...</td>\n",
       "      <td>http://www.madmaxmovie.com/</td>\n",
       "      <td>George Miller</td>\n",
       "      <td>What a Lovely Day.</td>\n",
       "      <td>...</td>\n",
       "      <td>An apocalyptic story set in the furthest reach...</td>\n",
       "      <td>120</td>\n",
       "      <td>Action|Adventure|Science Fiction|Thriller</td>\n",
       "      <td>Village Roadshow Pictures|Kennedy Miller Produ...</td>\n",
       "      <td>5/13/15</td>\n",
       "      <td>6185</td>\n",
       "      <td>7.1</td>\n",
       "      <td>2015</td>\n",
       "      <td>1.379999e+08</td>\n",
       "      <td>3.481613e+08</td>\n",
       "    </tr>\n",
       "    <tr>\n",
       "      <th>2</th>\n",
       "      <td>262500</td>\n",
       "      <td>tt2908446</td>\n",
       "      <td>13.112507</td>\n",
       "      <td>110000000</td>\n",
       "      <td>295238201</td>\n",
       "      <td>Insurgent</td>\n",
       "      <td>Shailene Woodley|Theo James|Kate Winslet|Ansel...</td>\n",
       "      <td>http://www.thedivergentseries.movie/#insurgent</td>\n",
       "      <td>Robert Schwentke</td>\n",
       "      <td>One Choice Can Destroy You</td>\n",
       "      <td>...</td>\n",
       "      <td>Beatrice Prior must confront her inner demons ...</td>\n",
       "      <td>119</td>\n",
       "      <td>Adventure|Science Fiction|Thriller</td>\n",
       "      <td>Summit Entertainment|Mandeville Films|Red Wago...</td>\n",
       "      <td>3/18/15</td>\n",
       "      <td>2480</td>\n",
       "      <td>6.3</td>\n",
       "      <td>2015</td>\n",
       "      <td>1.012000e+08</td>\n",
       "      <td>2.716190e+08</td>\n",
       "    </tr>\n",
       "    <tr>\n",
       "      <th>3</th>\n",
       "      <td>140607</td>\n",
       "      <td>tt2488496</td>\n",
       "      <td>11.173104</td>\n",
       "      <td>200000000</td>\n",
       "      <td>2068178225</td>\n",
       "      <td>Star Wars: The Force Awakens</td>\n",
       "      <td>Harrison Ford|Mark Hamill|Carrie Fisher|Adam D...</td>\n",
       "      <td>http://www.starwars.com/films/star-wars-episod...</td>\n",
       "      <td>J.J. Abrams</td>\n",
       "      <td>Every generation has a story.</td>\n",
       "      <td>...</td>\n",
       "      <td>Thirty years after defeating the Galactic Empi...</td>\n",
       "      <td>136</td>\n",
       "      <td>Action|Adventure|Science Fiction|Fantasy</td>\n",
       "      <td>Lucasfilm|Truenorth Productions|Bad Robot</td>\n",
       "      <td>12/15/15</td>\n",
       "      <td>5292</td>\n",
       "      <td>7.5</td>\n",
       "      <td>2015</td>\n",
       "      <td>1.839999e+08</td>\n",
       "      <td>1.902723e+09</td>\n",
       "    </tr>\n",
       "    <tr>\n",
       "      <th>4</th>\n",
       "      <td>168259</td>\n",
       "      <td>tt2820852</td>\n",
       "      <td>9.335014</td>\n",
       "      <td>190000000</td>\n",
       "      <td>1506249360</td>\n",
       "      <td>Furious 7</td>\n",
       "      <td>Vin Diesel|Paul Walker|Jason Statham|Michelle ...</td>\n",
       "      <td>http://www.furious7.com/</td>\n",
       "      <td>James Wan</td>\n",
       "      <td>Vengeance Hits Home</td>\n",
       "      <td>...</td>\n",
       "      <td>Deckard Shaw seeks revenge against Dominic Tor...</td>\n",
       "      <td>137</td>\n",
       "      <td>Action|Crime|Thriller</td>\n",
       "      <td>Universal Pictures|Original Film|Media Rights ...</td>\n",
       "      <td>4/1/15</td>\n",
       "      <td>2947</td>\n",
       "      <td>7.3</td>\n",
       "      <td>2015</td>\n",
       "      <td>1.747999e+08</td>\n",
       "      <td>1.385749e+09</td>\n",
       "    </tr>\n",
       "  </tbody>\n",
       "</table>\n",
       "<p>5 rows × 21 columns</p>\n",
       "</div>"
      ],
      "text/plain": [
       "       id    imdb_id  popularity     budget     revenue  \\\n",
       "0  135397  tt0369610   32.985763  150000000  1513528810   \n",
       "1   76341  tt1392190   28.419936  150000000   378436354   \n",
       "2  262500  tt2908446   13.112507  110000000   295238201   \n",
       "3  140607  tt2488496   11.173104  200000000  2068178225   \n",
       "4  168259  tt2820852    9.335014  190000000  1506249360   \n",
       "\n",
       "                 original_title  \\\n",
       "0                Jurassic World   \n",
       "1            Mad Max: Fury Road   \n",
       "2                     Insurgent   \n",
       "3  Star Wars: The Force Awakens   \n",
       "4                     Furious 7   \n",
       "\n",
       "                                                cast  \\\n",
       "0  Chris Pratt|Bryce Dallas Howard|Irrfan Khan|Vi...   \n",
       "1  Tom Hardy|Charlize Theron|Hugh Keays-Byrne|Nic...   \n",
       "2  Shailene Woodley|Theo James|Kate Winslet|Ansel...   \n",
       "3  Harrison Ford|Mark Hamill|Carrie Fisher|Adam D...   \n",
       "4  Vin Diesel|Paul Walker|Jason Statham|Michelle ...   \n",
       "\n",
       "                                            homepage          director  \\\n",
       "0                      http://www.jurassicworld.com/   Colin Trevorrow   \n",
       "1                        http://www.madmaxmovie.com/     George Miller   \n",
       "2     http://www.thedivergentseries.movie/#insurgent  Robert Schwentke   \n",
       "3  http://www.starwars.com/films/star-wars-episod...       J.J. Abrams   \n",
       "4                           http://www.furious7.com/         James Wan   \n",
       "\n",
       "                         tagline  ...  \\\n",
       "0              The park is open.  ...   \n",
       "1             What a Lovely Day.  ...   \n",
       "2     One Choice Can Destroy You  ...   \n",
       "3  Every generation has a story.  ...   \n",
       "4            Vengeance Hits Home  ...   \n",
       "\n",
       "                                            overview runtime  \\\n",
       "0  Twenty-two years after the events of Jurassic ...     124   \n",
       "1  An apocalyptic story set in the furthest reach...     120   \n",
       "2  Beatrice Prior must confront her inner demons ...     119   \n",
       "3  Thirty years after defeating the Galactic Empi...     136   \n",
       "4  Deckard Shaw seeks revenge against Dominic Tor...     137   \n",
       "\n",
       "                                      genres  \\\n",
       "0  Action|Adventure|Science Fiction|Thriller   \n",
       "1  Action|Adventure|Science Fiction|Thriller   \n",
       "2         Adventure|Science Fiction|Thriller   \n",
       "3   Action|Adventure|Science Fiction|Fantasy   \n",
       "4                      Action|Crime|Thriller   \n",
       "\n",
       "                                production_companies release_date vote_count  \\\n",
       "0  Universal Studios|Amblin Entertainment|Legenda...       6/9/15       5562   \n",
       "1  Village Roadshow Pictures|Kennedy Miller Produ...      5/13/15       6185   \n",
       "2  Summit Entertainment|Mandeville Films|Red Wago...      3/18/15       2480   \n",
       "3          Lucasfilm|Truenorth Productions|Bad Robot     12/15/15       5292   \n",
       "4  Universal Pictures|Original Film|Media Rights ...       4/1/15       2947   \n",
       "\n",
       "   vote_average  release_year    budget_adj   revenue_adj  \n",
       "0           6.5          2015  1.379999e+08  1.392446e+09  \n",
       "1           7.1          2015  1.379999e+08  3.481613e+08  \n",
       "2           6.3          2015  1.012000e+08  2.716190e+08  \n",
       "3           7.5          2015  1.839999e+08  1.902723e+09  \n",
       "4           7.3          2015  1.747999e+08  1.385749e+09  \n",
       "\n",
       "[5 rows x 21 columns]"
      ]
     },
     "execution_count": 2,
     "metadata": {},
     "output_type": "execute_result"
    }
   ],
   "source": [
    "import numpy as np\n",
    "import pandas as pd\n",
    "import matplotlib.pyplot as plt\n",
    "import seaborn as sns\n",
    "import unicodecsv\n",
    "movieDB = []\n",
    "movieDB = pd.read_csv('https://d17h27t6h515a5.cloudfront.net/topher/2017/October/59dd1c4c_tmdb-movies/tmdb-movies.csv')\n",
    "#Inspect head\n",
    "movieDB.head()"
   ]
  },
  {
   "cell_type": "code",
   "execution_count": 3,
   "id": "4d0d1982",
   "metadata": {},
   "outputs": [
    {
     "data": {
      "text/plain": [
       "(10866, 21)"
      ]
     },
     "execution_count": 3,
     "metadata": {},
     "output_type": "execute_result"
    }
   ],
   "source": [
    "# get value of dataframe shape (rows X columns)\n",
    "movieDB.shape"
   ]
  },
  {
   "cell_type": "code",
   "execution_count": 35,
   "id": "55fac9a4",
   "metadata": {},
   "outputs": [
    {
     "data": {
      "text/plain": [
       "id                  int64\n",
       "original_title     object\n",
       "cast               object\n",
       "director           object\n",
       "keywords           object\n",
       "runtime             int64\n",
       "genres             object\n",
       "release_date       object\n",
       "budget_adj        float64\n",
       "revenue_adj       float64\n",
       "net               float64\n",
       "month_num           int64\n",
       "DOW                object\n",
       "DOM                 int64\n",
       "dtype: object"
      ]
     },
     "execution_count": 35,
     "metadata": {},
     "output_type": "execute_result"
    }
   ],
   "source": [
    "#inspect data types\n",
    "movieDB.dtypes"
   ]
  },
  {
   "cell_type": "markdown",
   "id": "1bd1439c",
   "metadata": {},
   "source": [
    "Upon inspection  the column heads are:imdb_id, popularity, budget, revenue,original_title,cast, homepage, director, tagline, keywords,overview,runtime,genres,production_companies,release_date,vote_count,vote_average,release_year,budget_adj,revenue_adj"
   ]
  },
  {
   "cell_type": "markdown",
   "id": "3c10d127",
   "metadata": {},
   "source": [
    "\n",
    "After review. The data is that is of limited use is divided into 3 types:\n",
    "1) Data that is outside the film makers control: popularity, vote_count, vote_release. As these are facros measured post release,\n",
    "2) Data that is irrelevent to analysing common factors in profitability as by the very nature of the data ( an inherent limitation) the data is unique and thus ill suited to aggregation such as imbdID, homepage, tagline, \n",
    "3) Date that is pointless to measure give the scope of the investigation: release_year (how would a film maker in 1991 travel 10 years forward in time knowing 2021 was a year for profitable movies?)\n",
    "Next,drop columns with variables of no interest: imdb_id, popularity, budget, revenue, homepage, tagline, overview, production_companies , vote_count, vote_average, release_year"
   ]
  },
  {
   "cell_type": "code",
   "execution_count": null,
   "id": "06c1ce79",
   "metadata": {},
   "outputs": [],
   "source": [
    "# drop unneede columns\n",
    "movieDB.drop(['imdb_id','popularity','budget','revenue','homepage','tagline','overview','production_companies','vote_count','vote_average','release_year'], axis=1, inplace = True)\n",
    "# expected number of rows is 10\n",
    "movieDB.shape"
   ]
  },
  {
   "cell_type": "markdown",
   "id": "97a264b1",
   "metadata": {},
   "source": [
    "\n",
    "Inspect for Duplicates\n",
    "The only variable of interest where duplicates are a concern is 'original_title', there is a possability of duplicate titles with unique films but if the release date is different then each movie is unique. A calculated field will be created that is a concatenation of title and release date and any possible duplicate returns inspected for duplicates, once possibile duplicare rows are identified and duplicate rows dropped this column will be dropped.\n",
    "___"
   ]
  },
  {
   "cell_type": "code",
   "execution_count": 5,
   "id": "35733eac",
   "metadata": {},
   "outputs": [
    {
     "data": {
      "text/plain": [
       "(10866, 11)"
      ]
     },
     "execution_count": 5,
     "metadata": {},
     "output_type": "execute_result"
    }
   ],
   "source": [
    "movieDB['u_value'] = movieDB['original_title'] + movieDB['release_date']\n",
    "movieDB.shape"
   ]
  },
  {
   "cell_type": "code",
   "execution_count": 6,
   "id": "9b8fad35",
   "metadata": {},
   "outputs": [
    {
     "data": {
      "text/html": [
       "<div>\n",
       "<style scoped>\n",
       "    .dataframe tbody tr th:only-of-type {\n",
       "        vertical-align: middle;\n",
       "    }\n",
       "\n",
       "    .dataframe tbody tr th {\n",
       "        vertical-align: top;\n",
       "    }\n",
       "\n",
       "    .dataframe thead th {\n",
       "        text-align: right;\n",
       "    }\n",
       "</style>\n",
       "<table border=\"1\" class=\"dataframe\">\n",
       "  <thead>\n",
       "    <tr style=\"text-align: right;\">\n",
       "      <th></th>\n",
       "      <th>id</th>\n",
       "      <th>original_title</th>\n",
       "      <th>cast</th>\n",
       "      <th>director</th>\n",
       "      <th>keywords</th>\n",
       "      <th>runtime</th>\n",
       "      <th>genres</th>\n",
       "      <th>release_date</th>\n",
       "      <th>budget_adj</th>\n",
       "      <th>revenue_adj</th>\n",
       "      <th>u_value</th>\n",
       "    </tr>\n",
       "  </thead>\n",
       "  <tbody>\n",
       "    <tr>\n",
       "      <th>2090</th>\n",
       "      <td>42194</td>\n",
       "      <td>TEKKEN</td>\n",
       "      <td>Jon Foo|Kelly Overton|Cary-Hiroyuki Tagawa|Ian...</td>\n",
       "      <td>Dwight H. Little</td>\n",
       "      <td>martial arts|dystopia|based on video game|mart...</td>\n",
       "      <td>92</td>\n",
       "      <td>Crime|Drama|Action|Thriller|Science Fiction</td>\n",
       "      <td>3/20/10</td>\n",
       "      <td>30000000.0</td>\n",
       "      <td>967000.0</td>\n",
       "      <td>TEKKEN3/20/10</td>\n",
       "    </tr>\n",
       "  </tbody>\n",
       "</table>\n",
       "</div>"
      ],
      "text/plain": [
       "         id original_title                                               cast  \\\n",
       "2090  42194         TEKKEN  Jon Foo|Kelly Overton|Cary-Hiroyuki Tagawa|Ian...   \n",
       "\n",
       "              director                                           keywords  \\\n",
       "2090  Dwight H. Little  martial arts|dystopia|based on video game|mart...   \n",
       "\n",
       "      runtime                                       genres release_date  \\\n",
       "2090       92  Crime|Drama|Action|Thriller|Science Fiction      3/20/10   \n",
       "\n",
       "      budget_adj  revenue_adj        u_value  \n",
       "2090  30000000.0     967000.0  TEKKEN3/20/10  "
      ]
     },
     "execution_count": 6,
     "metadata": {},
     "output_type": "execute_result"
    }
   ],
   "source": [
    "# check for duplicates in 'unique_value'\n",
    "duplicates = movieDB[movieDB.duplicated(['u_value'])]\n",
    "duplicates\n"
   ]
  },
  {
   "cell_type": "code",
   "execution_count": 7,
   "id": "57f411ab",
   "metadata": {},
   "outputs": [
    {
     "data": {
      "text/html": [
       "<div>\n",
       "<style scoped>\n",
       "    .dataframe tbody tr th:only-of-type {\n",
       "        vertical-align: middle;\n",
       "    }\n",
       "\n",
       "    .dataframe tbody tr th {\n",
       "        vertical-align: top;\n",
       "    }\n",
       "\n",
       "    .dataframe thead th {\n",
       "        text-align: right;\n",
       "    }\n",
       "</style>\n",
       "<table border=\"1\" class=\"dataframe\">\n",
       "  <thead>\n",
       "    <tr style=\"text-align: right;\">\n",
       "      <th></th>\n",
       "      <th>id</th>\n",
       "      <th>original_title</th>\n",
       "      <th>cast</th>\n",
       "      <th>director</th>\n",
       "      <th>keywords</th>\n",
       "      <th>runtime</th>\n",
       "      <th>genres</th>\n",
       "      <th>release_date</th>\n",
       "      <th>budget_adj</th>\n",
       "      <th>revenue_adj</th>\n",
       "      <th>u_value</th>\n",
       "    </tr>\n",
       "  </thead>\n",
       "  <tbody>\n",
       "    <tr>\n",
       "      <th>2089</th>\n",
       "      <td>42194</td>\n",
       "      <td>TEKKEN</td>\n",
       "      <td>Jon Foo|Kelly Overton|Cary-Hiroyuki Tagawa|Ian...</td>\n",
       "      <td>Dwight H. Little</td>\n",
       "      <td>martial arts|dystopia|based on video game|mart...</td>\n",
       "      <td>92</td>\n",
       "      <td>Crime|Drama|Action|Thriller|Science Fiction</td>\n",
       "      <td>3/20/10</td>\n",
       "      <td>30000000.0</td>\n",
       "      <td>967000.0</td>\n",
       "      <td>TEKKEN3/20/10</td>\n",
       "    </tr>\n",
       "    <tr>\n",
       "      <th>2090</th>\n",
       "      <td>42194</td>\n",
       "      <td>TEKKEN</td>\n",
       "      <td>Jon Foo|Kelly Overton|Cary-Hiroyuki Tagawa|Ian...</td>\n",
       "      <td>Dwight H. Little</td>\n",
       "      <td>martial arts|dystopia|based on video game|mart...</td>\n",
       "      <td>92</td>\n",
       "      <td>Crime|Drama|Action|Thriller|Science Fiction</td>\n",
       "      <td>3/20/10</td>\n",
       "      <td>30000000.0</td>\n",
       "      <td>967000.0</td>\n",
       "      <td>TEKKEN3/20/10</td>\n",
       "    </tr>\n",
       "  </tbody>\n",
       "</table>\n",
       "</div>"
      ],
      "text/plain": [
       "         id original_title                                               cast  \\\n",
       "2089  42194         TEKKEN  Jon Foo|Kelly Overton|Cary-Hiroyuki Tagawa|Ian...   \n",
       "2090  42194         TEKKEN  Jon Foo|Kelly Overton|Cary-Hiroyuki Tagawa|Ian...   \n",
       "\n",
       "              director                                           keywords  \\\n",
       "2089  Dwight H. Little  martial arts|dystopia|based on video game|mart...   \n",
       "2090  Dwight H. Little  martial arts|dystopia|based on video game|mart...   \n",
       "\n",
       "      runtime                                       genres release_date  \\\n",
       "2089       92  Crime|Drama|Action|Thriller|Science Fiction      3/20/10   \n",
       "2090       92  Crime|Drama|Action|Thriller|Science Fiction      3/20/10   \n",
       "\n",
       "      budget_adj  revenue_adj        u_value  \n",
       "2089  30000000.0     967000.0  TEKKEN3/20/10  \n",
       "2090  30000000.0     967000.0  TEKKEN3/20/10  "
      ]
     },
     "execution_count": 7,
     "metadata": {},
     "output_type": "execute_result"
    }
   ],
   "source": [
    "# Inspect rows with duplicates in u_value. Upon inspection these rows are truly duplicates\n",
    "movieDB.loc[movieDB['u_value'] == 'TEKKEN3/20/10']"
   ]
  },
  {
   "cell_type": "code",
   "execution_count": 8,
   "id": "3374a031",
   "metadata": {},
   "outputs": [
    {
     "data": {
      "text/plain": [
       "(10865, 11)"
      ]
     },
     "execution_count": 8,
     "metadata": {},
     "output_type": "execute_result"
    }
   ],
   "source": [
    "# delete row at rowindex number 2090\n",
    "\n",
    "movieDB = movieDB.drop(movieDB.index[2090])\n",
    "movieDB.shape"
   ]
  },
  {
   "cell_type": "code",
   "execution_count": 10,
   "id": "a791d105",
   "metadata": {},
   "outputs": [
    {
     "data": {
      "text/html": [
       "<div>\n",
       "<style scoped>\n",
       "    .dataframe tbody tr th:only-of-type {\n",
       "        vertical-align: middle;\n",
       "    }\n",
       "\n",
       "    .dataframe tbody tr th {\n",
       "        vertical-align: top;\n",
       "    }\n",
       "\n",
       "    .dataframe thead th {\n",
       "        text-align: right;\n",
       "    }\n",
       "</style>\n",
       "<table border=\"1\" class=\"dataframe\">\n",
       "  <thead>\n",
       "    <tr style=\"text-align: right;\">\n",
       "      <th></th>\n",
       "      <th>id</th>\n",
       "      <th>original_title</th>\n",
       "      <th>cast</th>\n",
       "      <th>director</th>\n",
       "      <th>keywords</th>\n",
       "      <th>runtime</th>\n",
       "      <th>genres</th>\n",
       "      <th>release_date</th>\n",
       "      <th>budget_adj</th>\n",
       "      <th>revenue_adj</th>\n",
       "    </tr>\n",
       "  </thead>\n",
       "  <tbody>\n",
       "    <tr>\n",
       "      <th>0</th>\n",
       "      <td>135397</td>\n",
       "      <td>Jurassic World</td>\n",
       "      <td>Chris Pratt|Bryce Dallas Howard|Irrfan Khan|Vi...</td>\n",
       "      <td>Colin Trevorrow</td>\n",
       "      <td>monster|dna|tyrannosaurus rex|velociraptor|island</td>\n",
       "      <td>124</td>\n",
       "      <td>Action|Adventure|Science Fiction|Thriller</td>\n",
       "      <td>6/9/15</td>\n",
       "      <td>1.379999e+08</td>\n",
       "      <td>1.392446e+09</td>\n",
       "    </tr>\n",
       "    <tr>\n",
       "      <th>1</th>\n",
       "      <td>76341</td>\n",
       "      <td>Mad Max: Fury Road</td>\n",
       "      <td>Tom Hardy|Charlize Theron|Hugh Keays-Byrne|Nic...</td>\n",
       "      <td>George Miller</td>\n",
       "      <td>future|chase|post-apocalyptic|dystopia|australia</td>\n",
       "      <td>120</td>\n",
       "      <td>Action|Adventure|Science Fiction|Thriller</td>\n",
       "      <td>5/13/15</td>\n",
       "      <td>1.379999e+08</td>\n",
       "      <td>3.481613e+08</td>\n",
       "    </tr>\n",
       "    <tr>\n",
       "      <th>2</th>\n",
       "      <td>262500</td>\n",
       "      <td>Insurgent</td>\n",
       "      <td>Shailene Woodley|Theo James|Kate Winslet|Ansel...</td>\n",
       "      <td>Robert Schwentke</td>\n",
       "      <td>based on novel|revolution|dystopia|sequel|dyst...</td>\n",
       "      <td>119</td>\n",
       "      <td>Adventure|Science Fiction|Thriller</td>\n",
       "      <td>3/18/15</td>\n",
       "      <td>1.012000e+08</td>\n",
       "      <td>2.716190e+08</td>\n",
       "    </tr>\n",
       "    <tr>\n",
       "      <th>3</th>\n",
       "      <td>140607</td>\n",
       "      <td>Star Wars: The Force Awakens</td>\n",
       "      <td>Harrison Ford|Mark Hamill|Carrie Fisher|Adam D...</td>\n",
       "      <td>J.J. Abrams</td>\n",
       "      <td>android|spaceship|jedi|space opera|3d</td>\n",
       "      <td>136</td>\n",
       "      <td>Action|Adventure|Science Fiction|Fantasy</td>\n",
       "      <td>12/15/15</td>\n",
       "      <td>1.839999e+08</td>\n",
       "      <td>1.902723e+09</td>\n",
       "    </tr>\n",
       "    <tr>\n",
       "      <th>4</th>\n",
       "      <td>168259</td>\n",
       "      <td>Furious 7</td>\n",
       "      <td>Vin Diesel|Paul Walker|Jason Statham|Michelle ...</td>\n",
       "      <td>James Wan</td>\n",
       "      <td>car race|speed|revenge|suspense|car</td>\n",
       "      <td>137</td>\n",
       "      <td>Action|Crime|Thriller</td>\n",
       "      <td>4/1/15</td>\n",
       "      <td>1.747999e+08</td>\n",
       "      <td>1.385749e+09</td>\n",
       "    </tr>\n",
       "  </tbody>\n",
       "</table>\n",
       "</div>"
      ],
      "text/plain": [
       "       id                original_title  \\\n",
       "0  135397                Jurassic World   \n",
       "1   76341            Mad Max: Fury Road   \n",
       "2  262500                     Insurgent   \n",
       "3  140607  Star Wars: The Force Awakens   \n",
       "4  168259                     Furious 7   \n",
       "\n",
       "                                                cast          director  \\\n",
       "0  Chris Pratt|Bryce Dallas Howard|Irrfan Khan|Vi...   Colin Trevorrow   \n",
       "1  Tom Hardy|Charlize Theron|Hugh Keays-Byrne|Nic...     George Miller   \n",
       "2  Shailene Woodley|Theo James|Kate Winslet|Ansel...  Robert Schwentke   \n",
       "3  Harrison Ford|Mark Hamill|Carrie Fisher|Adam D...       J.J. Abrams   \n",
       "4  Vin Diesel|Paul Walker|Jason Statham|Michelle ...         James Wan   \n",
       "\n",
       "                                            keywords  runtime  \\\n",
       "0  monster|dna|tyrannosaurus rex|velociraptor|island      124   \n",
       "1   future|chase|post-apocalyptic|dystopia|australia      120   \n",
       "2  based on novel|revolution|dystopia|sequel|dyst...      119   \n",
       "3              android|spaceship|jedi|space opera|3d      136   \n",
       "4                car race|speed|revenge|suspense|car      137   \n",
       "\n",
       "                                      genres release_date    budget_adj  \\\n",
       "0  Action|Adventure|Science Fiction|Thriller       6/9/15  1.379999e+08   \n",
       "1  Action|Adventure|Science Fiction|Thriller      5/13/15  1.379999e+08   \n",
       "2         Adventure|Science Fiction|Thriller      3/18/15  1.012000e+08   \n",
       "3   Action|Adventure|Science Fiction|Fantasy     12/15/15  1.839999e+08   \n",
       "4                      Action|Crime|Thriller       4/1/15  1.747999e+08   \n",
       "\n",
       "    revenue_adj  \n",
       "0  1.392446e+09  \n",
       "1  3.481613e+08  \n",
       "2  2.716190e+08  \n",
       "3  1.902723e+09  \n",
       "4  1.385749e+09  "
      ]
     },
     "execution_count": 10,
     "metadata": {},
     "output_type": "execute_result"
    }
   ],
   "source": [
    "#drop u_value \n",
    "movieDB.drop(['u_value'], axis=1, inplace = True)\n",
    "#confirm drop\n",
    "movieDB.head()"
   ]
  },
  {
   "cell_type": "code",
   "execution_count": 11,
   "id": "268240cf",
   "metadata": {},
   "outputs": [
    {
     "data": {
      "text/plain": [
       "(10865, 10)"
      ]
     },
     "execution_count": 11,
     "metadata": {},
     "output_type": "execute_result"
    }
   ],
   "source": [
    "\n",
    "#get dataframe for later comparison purposes\n",
    "movieDB.shape"
   ]
  },
  {
   "cell_type": "markdown",
   "id": "b9a4eb69",
   "metadata": {},
   "source": [
    "Inspect the data set for missing values in budget_adj and revenue_adj columns, as this investigation is about commen elements in movies based on net revenue and rows with zero value in both will be irrelevent.\n",
    "    1) get a count for rows with a zero value and a zero value in the revenue_adj column.\n",
    "    2) drop rows with a zero in both budget_adj and revenue_adj columns\n",
    "    3) for rows with only one zero in each replace the zero with the average value for that column. "
   ]
  },
  {
   "cell_type": "code",
   "execution_count": 12,
   "id": "93e77d5f",
   "metadata": {},
   "outputs": [
    {
     "data": {
      "text/plain": [
       "4701"
      ]
     },
     "execution_count": 12,
     "metadata": {},
     "output_type": "execute_result"
    }
   ],
   "source": [
    "# determine total rows to be dropped\n",
    "x = ((movieDB['revenue_adj'] == 0) & (movieDB['budget_adj'] == 0 )).sum()\n",
    "x"
   ]
  },
  {
   "cell_type": "code",
   "execution_count": 13,
   "id": "49efa906",
   "metadata": {},
   "outputs": [],
   "source": [
    "#drop the rows\n",
    "movieDB = movieDB.drop(movieDB[(movieDB.revenue_adj == 0) & (movieDB.budget_adj== 0)].index)"
   ]
  },
  {
   "cell_type": "code",
   "execution_count": 14,
   "id": "b8ad8cd8",
   "metadata": {},
   "outputs": [
    {
     "data": {
      "text/plain": [
       "(6164, 10)"
      ]
     },
     "execution_count": 14,
     "metadata": {},
     "output_type": "execute_result"
    }
   ],
   "source": [
    "# get shape value to compare before and after\n",
    "movieDB.shape"
   ]
  },
  {
   "cell_type": "markdown",
   "id": "71680a70",
   "metadata": {},
   "source": [
    "4701 rows were dropped - given that the focus of this investigation is commen traits among profitabile movies then movies with no profitability value ( a revenue value of zero minus a budget value of zero will equal a zero profitibity) are irrelevent"
   ]
  },
  {
   "cell_type": "code",
   "execution_count": 15,
   "id": "b8b968f6",
   "metadata": {},
   "outputs": [
    {
     "name": "stdout",
     "output_type": "stream",
     "text": [
      "1315 995\n"
     ]
    }
   ],
   "source": [
    "#get a count for rows with a zero value in budget_adj column and a count for rows with a zero value in the revenue_adj column. These will be the rows values are supplied for.\n",
    "x =(movieDB['revenue_adj']  == 0 ).sum()\n",
    "y = (movieDB['budget_adj']  == 0 ).sum() \n",
    "print(x, y)"
   ]
  },
  {
   "cell_type": "markdown",
   "id": "3256acb0",
   "metadata": {},
   "source": [
    "For rows were there is a zero in budget_adj column the zero will be replaced by the average value of the column (excluding columns that are zero). "
   ]
  },
  {
   "cell_type": "code",
   "execution_count": 16,
   "id": "cdbd1c21",
   "metadata": {},
   "outputs": [],
   "source": [
    "# get average value for revenue_adj exluding rows with zeros in that column this will be compared to value \n",
    "column_average = movieDB[movieDB['revenue_adj'] != 0].revenue_adj.mean()\n",
    "#replace zero value in revenue_adj column with the column_average value\n",
    "movieDB.loc[movieDB['revenue_adj'] == 0,'revenue_adj'] = column_average\n"
   ]
  },
  {
   "cell_type": "code",
   "execution_count": 17,
   "id": "67871ddd",
   "metadata": {},
   "outputs": [
    {
     "name": "stdout",
     "output_type": "stream",
     "text": [
      "0\n"
     ]
    }
   ],
   "source": [
    "#confirm that there are no longer any zero values in the 'revenue_adj' column\n",
    "x =(movieDB['revenue_adj']  == 0 ).sum()\n",
    "print(x)\n"
   ]
  },
  {
   "cell_type": "code",
   "execution_count": 18,
   "id": "2fb8f861",
   "metadata": {},
   "outputs": [
    {
     "name": "stdout",
     "output_type": "stream",
     "text": [
      "0\n"
     ]
    }
   ],
   "source": [
    "#Go through the same process for the 'budget_adj'\n",
    "column_average2 = movieDB[movieDB['budget_adj'] != 0].budget_adj.mean()\n",
    "movieDB.loc[movieDB['budget_adj'] == 0,'budget_adj'] = column_average2\n",
    "#confirm that there are no longer any zero values in the 'budget_adj' column\n",
    "y =(movieDB['budget_adj']  == 0 ).sum()\n",
    "print(y)"
   ]
  },
  {
   "cell_type": "code",
   "execution_count": 19,
   "id": "638d484d",
   "metadata": {},
   "outputs": [
    {
     "data": {
      "text/plain": [
       "(6164, 11)"
      ]
     },
     "execution_count": 19,
     "metadata": {},
     "output_type": "execute_result"
    }
   ],
   "source": [
    "# with the zero values removed create a calculated column, net revenue\n",
    "movieDB['net'] = movieDB['revenue_adj'] - movieDB['budget_adj']\n",
    "movieDB.shape"
   ]
  },
  {
   "cell_type": "code",
   "execution_count": 20,
   "id": "131782a2",
   "metadata": {},
   "outputs": [
    {
     "data": {
      "text/html": [
       "<div>\n",
       "<style scoped>\n",
       "    .dataframe tbody tr th:only-of-type {\n",
       "        vertical-align: middle;\n",
       "    }\n",
       "\n",
       "    .dataframe tbody tr th {\n",
       "        vertical-align: top;\n",
       "    }\n",
       "\n",
       "    .dataframe thead th {\n",
       "        text-align: right;\n",
       "    }\n",
       "</style>\n",
       "<table border=\"1\" class=\"dataframe\">\n",
       "  <thead>\n",
       "    <tr style=\"text-align: right;\">\n",
       "      <th></th>\n",
       "      <th>id</th>\n",
       "      <th>original_title</th>\n",
       "      <th>cast</th>\n",
       "      <th>director</th>\n",
       "      <th>keywords</th>\n",
       "      <th>runtime</th>\n",
       "      <th>genres</th>\n",
       "      <th>release_date</th>\n",
       "      <th>budget_adj</th>\n",
       "      <th>revenue_adj</th>\n",
       "      <th>net</th>\n",
       "    </tr>\n",
       "  </thead>\n",
       "  <tbody>\n",
       "    <tr>\n",
       "      <th>0</th>\n",
       "      <td>135397</td>\n",
       "      <td>Jurassic World</td>\n",
       "      <td>Chris Pratt|Bryce Dallas Howard|Irrfan Khan|Vi...</td>\n",
       "      <td>Colin Trevorrow</td>\n",
       "      <td>monster|dna|tyrannosaurus rex|velociraptor|island</td>\n",
       "      <td>124</td>\n",
       "      <td>Action|Adventure|Science Fiction|Thriller</td>\n",
       "      <td>6/9/15</td>\n",
       "      <td>1.379999e+08</td>\n",
       "      <td>1.392446e+09</td>\n",
       "      <td>1.254446e+09</td>\n",
       "    </tr>\n",
       "    <tr>\n",
       "      <th>1</th>\n",
       "      <td>76341</td>\n",
       "      <td>Mad Max: Fury Road</td>\n",
       "      <td>Tom Hardy|Charlize Theron|Hugh Keays-Byrne|Nic...</td>\n",
       "      <td>George Miller</td>\n",
       "      <td>future|chase|post-apocalyptic|dystopia|australia</td>\n",
       "      <td>120</td>\n",
       "      <td>Action|Adventure|Science Fiction|Thriller</td>\n",
       "      <td>5/13/15</td>\n",
       "      <td>1.379999e+08</td>\n",
       "      <td>3.481613e+08</td>\n",
       "      <td>2.101614e+08</td>\n",
       "    </tr>\n",
       "    <tr>\n",
       "      <th>2</th>\n",
       "      <td>262500</td>\n",
       "      <td>Insurgent</td>\n",
       "      <td>Shailene Woodley|Theo James|Kate Winslet|Ansel...</td>\n",
       "      <td>Robert Schwentke</td>\n",
       "      <td>based on novel|revolution|dystopia|sequel|dyst...</td>\n",
       "      <td>119</td>\n",
       "      <td>Adventure|Science Fiction|Thriller</td>\n",
       "      <td>3/18/15</td>\n",
       "      <td>1.012000e+08</td>\n",
       "      <td>2.716190e+08</td>\n",
       "      <td>1.704191e+08</td>\n",
       "    </tr>\n",
       "    <tr>\n",
       "      <th>3</th>\n",
       "      <td>140607</td>\n",
       "      <td>Star Wars: The Force Awakens</td>\n",
       "      <td>Harrison Ford|Mark Hamill|Carrie Fisher|Adam D...</td>\n",
       "      <td>J.J. Abrams</td>\n",
       "      <td>android|spaceship|jedi|space opera|3d</td>\n",
       "      <td>136</td>\n",
       "      <td>Action|Adventure|Science Fiction|Fantasy</td>\n",
       "      <td>12/15/15</td>\n",
       "      <td>1.839999e+08</td>\n",
       "      <td>1.902723e+09</td>\n",
       "      <td>1.718723e+09</td>\n",
       "    </tr>\n",
       "    <tr>\n",
       "      <th>4</th>\n",
       "      <td>168259</td>\n",
       "      <td>Furious 7</td>\n",
       "      <td>Vin Diesel|Paul Walker|Jason Statham|Michelle ...</td>\n",
       "      <td>James Wan</td>\n",
       "      <td>car race|speed|revenge|suspense|car</td>\n",
       "      <td>137</td>\n",
       "      <td>Action|Crime|Thriller</td>\n",
       "      <td>4/1/15</td>\n",
       "      <td>1.747999e+08</td>\n",
       "      <td>1.385749e+09</td>\n",
       "      <td>1.210949e+09</td>\n",
       "    </tr>\n",
       "  </tbody>\n",
       "</table>\n",
       "</div>"
      ],
      "text/plain": [
       "       id                original_title  \\\n",
       "0  135397                Jurassic World   \n",
       "1   76341            Mad Max: Fury Road   \n",
       "2  262500                     Insurgent   \n",
       "3  140607  Star Wars: The Force Awakens   \n",
       "4  168259                     Furious 7   \n",
       "\n",
       "                                                cast          director  \\\n",
       "0  Chris Pratt|Bryce Dallas Howard|Irrfan Khan|Vi...   Colin Trevorrow   \n",
       "1  Tom Hardy|Charlize Theron|Hugh Keays-Byrne|Nic...     George Miller   \n",
       "2  Shailene Woodley|Theo James|Kate Winslet|Ansel...  Robert Schwentke   \n",
       "3  Harrison Ford|Mark Hamill|Carrie Fisher|Adam D...       J.J. Abrams   \n",
       "4  Vin Diesel|Paul Walker|Jason Statham|Michelle ...         James Wan   \n",
       "\n",
       "                                            keywords  runtime  \\\n",
       "0  monster|dna|tyrannosaurus rex|velociraptor|island      124   \n",
       "1   future|chase|post-apocalyptic|dystopia|australia      120   \n",
       "2  based on novel|revolution|dystopia|sequel|dyst...      119   \n",
       "3              android|spaceship|jedi|space opera|3d      136   \n",
       "4                car race|speed|revenge|suspense|car      137   \n",
       "\n",
       "                                      genres release_date    budget_adj  \\\n",
       "0  Action|Adventure|Science Fiction|Thriller       6/9/15  1.379999e+08   \n",
       "1  Action|Adventure|Science Fiction|Thriller      5/13/15  1.379999e+08   \n",
       "2         Adventure|Science Fiction|Thriller      3/18/15  1.012000e+08   \n",
       "3   Action|Adventure|Science Fiction|Fantasy     12/15/15  1.839999e+08   \n",
       "4                      Action|Crime|Thriller       4/1/15  1.747999e+08   \n",
       "\n",
       "    revenue_adj           net  \n",
       "0  1.392446e+09  1.254446e+09  \n",
       "1  3.481613e+08  2.101614e+08  \n",
       "2  2.716190e+08  1.704191e+08  \n",
       "3  1.902723e+09  1.718723e+09  \n",
       "4  1.385749e+09  1.210949e+09  "
      ]
     },
     "execution_count": 20,
     "metadata": {},
     "output_type": "execute_result"
    }
   ],
   "source": [
    "#inspect head to confirm column(s) creation\n",
    "movieDB.head()"
   ]
  },
  {
   "cell_type": "markdown",
   "id": "f51ff3e8",
   "metadata": {},
   "source": [
    "The top 20% of rows by (sorted by net revenue) will be identified and a new data frame created. This will be the data set of interest for this investigation.\n",
    "1) Create a new data froam sorting the data frame by 'net' descending\n",
    "2) add a column starting at 1 and incrementing by 1 for each row\n",
    "3) determine the count for the top 20% of rows (using the Pareto Principle that 80% of outcomes come from 20% of causes ( https://en.wikipedia.org/wiki/Pareto_principle )\n",
    "4) using the 20% count take that subset to create a new data frame movieDB_pp"
   ]
  },
  {
   "cell_type": "code",
   "execution_count": 21,
   "id": "ae04ae79",
   "metadata": {},
   "outputs": [],
   "source": [
    "#create sorted data frame\n",
    "movieDB_sort = movieDB.sort_values(by='net',ascending=False)"
   ]
  },
  {
   "cell_type": "code",
   "execution_count": 22,
   "id": "65b7eeae",
   "metadata": {},
   "outputs": [],
   "source": [
    "#add a column starting at 1 and incrementing by 1 for each row\n",
    "movieDB_sort['count'] = np.arange(len(movieDB_sort)) + 1"
   ]
  },
  {
   "cell_type": "code",
   "execution_count": 23,
   "id": "35589540",
   "metadata": {},
   "outputs": [
    {
     "data": {
      "text/plain": [
       "(6164, 12)"
      ]
     },
     "execution_count": 23,
     "metadata": {},
     "output_type": "execute_result"
    }
   ],
   "source": [
    "movieDB_sort.shape"
   ]
  },
  {
   "cell_type": "code",
   "execution_count": 24,
   "id": "cffa2d51",
   "metadata": {},
   "outputs": [
    {
     "data": {
      "text/plain": [
       "1232"
      ]
     },
     "execution_count": 24,
     "metadata": {},
     "output_type": "execute_result"
    }
   ],
   "source": [
    "#count for top 20% of rows\n",
    "x = int(len(movieDB_sort)*.2)\n",
    "x"
   ]
  },
  {
   "cell_type": "code",
   "execution_count": 26,
   "id": "3ce64a60",
   "metadata": {},
   "outputs": [],
   "source": [
    "#Create dateframe of the top 20% net revenue\n",
    "movieDB_pp = movieDB_sort[movieDB_sort['count'] <= x]"
   ]
  },
  {
   "cell_type": "code",
   "execution_count": 27,
   "id": "2a09305f",
   "metadata": {},
   "outputs": [
    {
     "data": {
      "text/plain": [
       "(1232, 12)"
      ]
     },
     "execution_count": 27,
     "metadata": {},
     "output_type": "execute_result"
    }
   ],
   "source": [
    "# inspect shape od new data frame expexted value is 1232 x 12\n",
    "movieDB_pp.shape "
   ]
  },
  {
   "cell_type": "code",
   "execution_count": 28,
   "id": "4b182869",
   "metadata": {},
   "outputs": [
    {
     "data": {
      "text/plain": [
       "id                 0\n",
       "original_title     0\n",
       "cast               4\n",
       "director           1\n",
       "keywords          57\n",
       "runtime            0\n",
       "genres             1\n",
       "release_date       0\n",
       "budget_adj         0\n",
       "revenue_adj        0\n",
       "net                0\n",
       "count              0\n",
       "dtype: int64"
      ]
     },
     "execution_count": 28,
     "metadata": {},
     "output_type": "execute_result"
    }
   ],
   "source": [
    "#inspect new dataframe for null value, unless there is a null count greater than 10% of values in a column, the count will be irrelevent in the next stage of analysis,\n",
    "movieDB_pp.isnull().sum()"
   ]
  },
  {
   "cell_type": "code",
   "execution_count": 29,
   "id": "13ff2323",
   "metadata": {},
   "outputs": [],
   "source": [
    "# given the small number of nulls there is no need to further cleanse data"
   ]
  },
  {
   "cell_type": "markdown",
   "id": "07065597",
   "metadata": {},
   "source": [
    "Exploratory Data Analysis\n",
    "At this point we will attempt a detemination of what factors are commen in high net revenue movies.\n",
    "1)Drop irrelevet columns (id, budget_adj, revenue_adj,count\n",
    "2) add calulated columns for day of week, date of month and, month number.\n",
    "2)Visualize data"
   ]
  },
  {
   "cell_type": "code",
   "execution_count": 30,
   "id": "e8790edc",
   "metadata": {},
   "outputs": [
    {
     "name": "stderr",
     "output_type": "stream",
     "text": [
      "/Users/michaelmohle/opt/anaconda3/lib/python3.8/site-packages/pandas/core/frame.py:4308: SettingWithCopyWarning: \n",
      "A value is trying to be set on a copy of a slice from a DataFrame\n",
      "\n",
      "See the caveats in the documentation: https://pandas.pydata.org/pandas-docs/stable/user_guide/indexing.html#returning-a-view-versus-a-copy\n",
      "  return super().drop(\n"
     ]
    },
    {
     "data": {
      "text/plain": [
       "(1232, 9)"
      ]
     },
     "execution_count": 30,
     "metadata": {},
     "output_type": "execute_result"
    }
   ],
   "source": [
    "#suppress error warnings\n",
    "pd.options.mode.chained_assignment = None  # default='warn'\n",
    "#drop unneed columns\n",
    "movieDB_pp.drop(['budget_adj', 'revenue_adj', 'count'], axis=1, inplace = True) \n",
    "movieDB_pp.shape"
   ]
  },
  {
   "cell_type": "code",
   "execution_count": 31,
   "id": "46ddddd7",
   "metadata": {},
   "outputs": [
    {
     "name": "stderr",
     "output_type": "stream",
     "text": [
      "<ipython-input-31-c11c05df8b27>:3: SettingWithCopyWarning: \n",
      "A value is trying to be set on a copy of a slice from a DataFrame.\n",
      "Try using .loc[row_indexer,col_indexer] = value instead\n",
      "\n",
      "See the caveats in the documentation: https://pandas.pydata.org/pandas-docs/stable/user_guide/indexing.html#returning-a-view-versus-a-copy\n",
      "  movieDB_pp['month_num'] = pd.DatetimeIndex(movieDB_pp['release_date']).month\n",
      "<ipython-input-31-c11c05df8b27>:4: SettingWithCopyWarning: \n",
      "A value is trying to be set on a copy of a slice from a DataFrame.\n",
      "Try using .loc[row_indexer,col_indexer] = value instead\n",
      "\n",
      "See the caveats in the documentation: https://pandas.pydata.org/pandas-docs/stable/user_guide/indexing.html#returning-a-view-versus-a-copy\n",
      "  movieDB_pp['DOW'] = pd.DatetimeIndex(movieDB_pp['release_date']).day_name()\n",
      "<ipython-input-31-c11c05df8b27>:5: SettingWithCopyWarning: \n",
      "A value is trying to be set on a copy of a slice from a DataFrame.\n",
      "Try using .loc[row_indexer,col_indexer] = value instead\n",
      "\n",
      "See the caveats in the documentation: https://pandas.pydata.org/pandas-docs/stable/user_guide/indexing.html#returning-a-view-versus-a-copy\n",
      "  movieDB_pp['DOM'] = pd.DatetimeIndex(movieDB_pp['release_date']).day\n"
     ]
    },
    {
     "data": {
      "text/html": [
       "<div>\n",
       "<style scoped>\n",
       "    .dataframe tbody tr th:only-of-type {\n",
       "        vertical-align: middle;\n",
       "    }\n",
       "\n",
       "    .dataframe tbody tr th {\n",
       "        vertical-align: top;\n",
       "    }\n",
       "\n",
       "    .dataframe thead th {\n",
       "        text-align: right;\n",
       "    }\n",
       "</style>\n",
       "<table border=\"1\" class=\"dataframe\">\n",
       "  <thead>\n",
       "    <tr style=\"text-align: right;\">\n",
       "      <th></th>\n",
       "      <th>id</th>\n",
       "      <th>original_title</th>\n",
       "      <th>cast</th>\n",
       "      <th>director</th>\n",
       "      <th>keywords</th>\n",
       "      <th>runtime</th>\n",
       "      <th>genres</th>\n",
       "      <th>release_date</th>\n",
       "      <th>net</th>\n",
       "      <th>month_num</th>\n",
       "      <th>DOW</th>\n",
       "      <th>DOM</th>\n",
       "    </tr>\n",
       "  </thead>\n",
       "  <tbody>\n",
       "    <tr>\n",
       "      <th>1329</th>\n",
       "      <td>11</td>\n",
       "      <td>Star Wars</td>\n",
       "      <td>Mark Hamill|Harrison Ford|Carrie Fisher|Peter ...</td>\n",
       "      <td>George Lucas</td>\n",
       "      <td>android|galaxy|hermit|death star|lightsaber</td>\n",
       "      <td>121</td>\n",
       "      <td>Adventure|Action|Science Fiction</td>\n",
       "      <td>3/20/77</td>\n",
       "      <td>2.750137e+09</td>\n",
       "      <td>3</td>\n",
       "      <td>Sunday</td>\n",
       "      <td>20</td>\n",
       "    </tr>\n",
       "    <tr>\n",
       "      <th>1386</th>\n",
       "      <td>19995</td>\n",
       "      <td>Avatar</td>\n",
       "      <td>Sam Worthington|Zoe Saldana|Sigourney Weaver|S...</td>\n",
       "      <td>James Cameron</td>\n",
       "      <td>culture clash|future|space war|space colony|so...</td>\n",
       "      <td>162</td>\n",
       "      <td>Action|Adventure|Fantasy|Science Fiction</td>\n",
       "      <td>12/10/09</td>\n",
       "      <td>2.586237e+09</td>\n",
       "      <td>12</td>\n",
       "      <td>Thursday</td>\n",
       "      <td>10</td>\n",
       "    </tr>\n",
       "    <tr>\n",
       "      <th>5231</th>\n",
       "      <td>597</td>\n",
       "      <td>Titanic</td>\n",
       "      <td>Kate Winslet|Leonardo DiCaprio|Frances Fisher|...</td>\n",
       "      <td>James Cameron</td>\n",
       "      <td>shipwreck|iceberg|ship|panic|titanic</td>\n",
       "      <td>194</td>\n",
       "      <td>Drama|Romance|Thriller</td>\n",
       "      <td>11/18/97</td>\n",
       "      <td>2.234714e+09</td>\n",
       "      <td>11</td>\n",
       "      <td>Tuesday</td>\n",
       "      <td>18</td>\n",
       "    </tr>\n",
       "    <tr>\n",
       "      <th>10594</th>\n",
       "      <td>9552</td>\n",
       "      <td>The Exorcist</td>\n",
       "      <td>Linda Blair|Max von Sydow|Ellen Burstyn|Jason ...</td>\n",
       "      <td>William Friedkin</td>\n",
       "      <td>exorcism|holy water|religion and supernatural|...</td>\n",
       "      <td>122</td>\n",
       "      <td>Drama|Horror|Thriller</td>\n",
       "      <td>12/26/73</td>\n",
       "      <td>2.128036e+09</td>\n",
       "      <td>12</td>\n",
       "      <td>Wednesday</td>\n",
       "      <td>26</td>\n",
       "    </tr>\n",
       "    <tr>\n",
       "      <th>9806</th>\n",
       "      <td>578</td>\n",
       "      <td>Jaws</td>\n",
       "      <td>Roy Scheider|Robert Shaw|Richard Dreyfuss|Lorr...</td>\n",
       "      <td>Steven Spielberg</td>\n",
       "      <td>fishing|atlantic ocean|bathing|shipwreck|polic...</td>\n",
       "      <td>124</td>\n",
       "      <td>Horror|Thriller|Adventure</td>\n",
       "      <td>6/18/75</td>\n",
       "      <td>1.878643e+09</td>\n",
       "      <td>6</td>\n",
       "      <td>Wednesday</td>\n",
       "      <td>18</td>\n",
       "    </tr>\n",
       "  </tbody>\n",
       "</table>\n",
       "</div>"
      ],
      "text/plain": [
       "          id original_title  \\\n",
       "1329      11      Star Wars   \n",
       "1386   19995         Avatar   \n",
       "5231     597        Titanic   \n",
       "10594   9552   The Exorcist   \n",
       "9806     578           Jaws   \n",
       "\n",
       "                                                    cast          director  \\\n",
       "1329   Mark Hamill|Harrison Ford|Carrie Fisher|Peter ...      George Lucas   \n",
       "1386   Sam Worthington|Zoe Saldana|Sigourney Weaver|S...     James Cameron   \n",
       "5231   Kate Winslet|Leonardo DiCaprio|Frances Fisher|...     James Cameron   \n",
       "10594  Linda Blair|Max von Sydow|Ellen Burstyn|Jason ...  William Friedkin   \n",
       "9806   Roy Scheider|Robert Shaw|Richard Dreyfuss|Lorr...  Steven Spielberg   \n",
       "\n",
       "                                                keywords  runtime  \\\n",
       "1329         android|galaxy|hermit|death star|lightsaber      121   \n",
       "1386   culture clash|future|space war|space colony|so...      162   \n",
       "5231                shipwreck|iceberg|ship|panic|titanic      194   \n",
       "10594  exorcism|holy water|religion and supernatural|...      122   \n",
       "9806   fishing|atlantic ocean|bathing|shipwreck|polic...      124   \n",
       "\n",
       "                                         genres release_date           net  \\\n",
       "1329           Adventure|Action|Science Fiction      3/20/77  2.750137e+09   \n",
       "1386   Action|Adventure|Fantasy|Science Fiction     12/10/09  2.586237e+09   \n",
       "5231                     Drama|Romance|Thriller     11/18/97  2.234714e+09   \n",
       "10594                     Drama|Horror|Thriller     12/26/73  2.128036e+09   \n",
       "9806                  Horror|Thriller|Adventure      6/18/75  1.878643e+09   \n",
       "\n",
       "       month_num        DOW  DOM  \n",
       "1329           3     Sunday   20  \n",
       "1386          12   Thursday   10  \n",
       "5231          11    Tuesday   18  \n",
       "10594         12  Wednesday   26  \n",
       "9806           6  Wednesday   18  "
      ]
     },
     "execution_count": 31,
     "metadata": {},
     "output_type": "execute_result"
    }
   ],
   "source": [
    "\n",
    "#based on information above there are no missing values in 'release_date'\n",
    "# create calculated columns for month number, day of week and date of month\n",
    "movieDB_pp['month_num'] = pd.DatetimeIndex(movieDB_pp['release_date']).month\n",
    "movieDB_pp['DOW'] = pd.DatetimeIndex(movieDB_pp['release_date']).day_name()\n",
    "movieDB_pp['DOM'] = pd.DatetimeIndex(movieDB_pp['release_date']).day\n",
    "#inspect head to confirm\n",
    "movieDB_pp.head()"
   ]
  },
  {
   "cell_type": "code",
   "execution_count": 42,
   "id": "ea6b9a35",
   "metadata": {},
   "outputs": [
    {
     "data": {
      "text/plain": [
       "(1232, 12)"
      ]
     },
     "execution_count": 42,
     "metadata": {},
     "output_type": "execute_result"
    }
   ],
   "source": [
    "movieDB_pp.shape\n"
   ]
  },
  {
   "cell_type": "code",
   "execution_count": null,
   "id": "a4f2f705",
   "metadata": {},
   "outputs": [],
   "source": [
    "Now we will enter the vizualazation stage, a quick vizulazation will be created as a starting point."
   ]
  },
  {
   "cell_type": "code",
   "execution_count": 64,
   "id": "e5982d43",
   "metadata": {},
   "outputs": [
    {
     "data": {
      "text/plain": [
       "array([[<AxesSubplot:title={'center':'runtime'}>,\n",
       "        <AxesSubplot:title={'center':'month_num'}>],\n",
       "       [<AxesSubplot:title={'center':'DOM'}>, <AxesSubplot:>]],\n",
       "      dtype=object)"
      ]
     },
     "execution_count": 64,
     "metadata": {},
     "output_type": "execute_result"
    },
    {
     "data": {
      "image/png": "[encoded data removed]",
      "text/plain": [
       "<Figure size 720x360 with 4 Axes>"
      ]
     },
     "metadata": {
      "needs_background": "light"
     },
     "output_type": "display_data"
    }
   ],
   "source": [
    "#Create histograms for appropriate data types\n",
    "movieDB_pp.hist(column = ['runtime','month_num','DOM'], figsize = (10,5))"
   ]
  },
  {
   "cell_type": "markdown",
   "id": "b293d912",
   "metadata": {},
   "source": [
    "Given the above visualzations:\n",
    "Initial analysis indicates profitabilty id assossiated with a runtime of 100 _ 120 Minutes, more study is requied to draw a conclusion for DOM."
   ]
  },
  {
   "cell_type": "markdown",
   "id": "e99a65ea",
   "metadata": {},
   "source": [
    "Using value_counts investigate DOW and director columns"
   ]
  },
  {
   "cell_type": "code",
   "execution_count": 44,
   "id": "cb7862da",
   "metadata": {},
   "outputs": [],
   "source": [
    "a = movieDB_pp['DOW'].value_counts()\n",
    "b = movieDB_pp['director'].value_counts()[:5]\n",
    "\n"
   ]
  },
  {
   "cell_type": "code",
   "execution_count": 45,
   "id": "c32b6f2e",
   "metadata": {},
   "outputs": [],
   "source": [
    "Vizualize value counts\n"
   ]
  },
  {
   "cell_type": "code",
   "execution_count": 43,
   "id": "f37d45b6",
   "metadata": {},
   "outputs": [
    {
     "data": {
      "text/plain": [
       "<AxesSubplot:>"
      ]
     },
     "execution_count": 43,
     "metadata": {},
     "output_type": "execute_result"
    },
    {
     "data": {
      "image/png": "[encoded data removed]",
      "text/plain": [
       "<Figure size 432x288 with 1 Axes>"
      ]
     },
     "metadata": {
      "needs_background": "light"
     },
     "output_type": "display_data"
    }
   ],
   "source": [
    "a.plot(kind ='bar')\n",
    "#vizualize Day of week"
   ]
  },
  {
   "cell_type": "code",
   "execution_count": 42,
   "id": "b4a9bc4d",
   "metadata": {},
   "outputs": [
    {
     "data": {
      "text/plain": [
       "<AxesSubplot:>"
      ]
     },
     "execution_count": 42,
     "metadata": {},
     "output_type": "execute_result"
    },
    {
     "data": {
      "image/png": "[encoded data removed]",
      "text/plain": [
       "<Figure size 432x288 with 1 Axes>"
      ]
     },
     "metadata": {
      "needs_background": "light"
     },
     "output_type": "display_data"
    }
   ],
   "source": [
    "# Vizualize Top five directors\n",
    "b.plot(kind = 'bar')"
   ]
  },
  {
   "cell_type": "markdown",
   "id": "fdd4f555",
   "metadata": {},
   "source": [
    "Conclusions;\n",
    "The focus of this Based upon this it appears as Friday is the best day of the week for release, and Steven Spielburg the choice of director most profitable movie.\n"
   ]
  },
  {
   "attachments": {},
   "cell_type": "markdown",
   "id": "63ce3436",
   "metadata": {},
   "source": [
    "Conclusions: This investiagation was looking into the common factors of highly (defined as top 80% of revenue, following the Pareto principle that the top 20% have 80% of the impact ) profitabile movies that would be under the control of the production company. 4 factors are common for the most profitabile movies: 1) runtime of roughly 100 minutes, 2) December release, 3) Friday release day, and 4) Steven Spielberg being the director.\n",
    "\n",
    "Limitations in the data:\n",
    "1) Production company is irrelevent as the focus of the study was factors within a  production companies control (such as a Monday release day or September release month), these factors are seen through the lense of a generic production company.\n",
    "2) Date of month is inconclusive. Based on the date there does not appear to be a clease best date of month.\n",
    "3)Some values are irrelevent to this study as they concern factors that happen after release of the movie: popularity, vote_count, vote_average. and as thus cleary out of the control of a production company\n",
    "4) Release_ year is irrelevent as while a film maker has conrol over the day of week of release or month of release, release year release discreation is not a practical matter.\n",
    "5) Some data is inherently ill-suited to aggregation such as imbdID, homepage, tagline.[image.png](attachment:image.png)\n",
    "Suggested further investigations: \n",
    "It would be valuable to revist this study if it were possible to capture net revenue by country, would the same top level insights hold up on a per country basis ( maybe Tuesday is the best day to release a film in Italy)\n"
   ]
  }
 ],
 "metadata": {
  "celltoolbar": "Edit Metadata",
  "kernelspec": {
   "display_name": "Python 3",
   "language": "python",
   "name": "python3"
  },
  "language_info": {
   "codemirror_mode": {
    "name": "ipython",
    "version": 3
   },
   "file_extension": ".py",
   "mimetype": "text/x-python",
   "name": "python",
   "nbconvert_exporter": "python",
   "pygments_lexer": "ipython3",
   "version": "3.8.8"
  }
 },
 "nbformat": 4,
 "nbformat_minor": 5
}
