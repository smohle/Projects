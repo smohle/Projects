{
 "cells": [
  {
   "cell_type": "markdown",
   "id": "c71f6c88",
   "metadata": {},
   "source": [
    "Introduction: The purpose of thid project is to collect from 3 data sources, clean for tideness and qualty then combine them into one dtaframe\n",
    "\n",
    "Process\n",
    "a)\tGathering data, the data sources will be:\n",
    "    i)\ttwitter_archive_enhanced.csv\n",
    "        (1)\tImport data and create DataFrame\n",
    "        (2)\tInspect data, Confirm the tweet_id column is the appropriate data type (integer), this important as this will be the column used to join the data files.\n",
    "        (3)\treport findings for quality and tidiness deficiencies\n",
    "        (4)\tperform remediations \n",
    "b)\timage_predictions.tsv\n",
    "    (1)\timport data and create DataFrame\n",
    "    (2)\tinspect data. Confirm the tweet_id column is the appropriate data type (integer), this important as this will be the column used to join the data files.\n",
    "    (3)\treport findings for quality and tidiness deficiencies\n",
    "    (4)\tperform remediations         \n",
    "c)\ttweet_json.txt\n",
    "    (1)\timport data and create DataFrame\n",
    "    (2)\tinspect data. Confirm the tweet_id column is the appropriate data type (integer), this important as this will be the column used to join the data files.\n",
    "    (3)\treport findings for quality and tidiness deficiencies\n",
    "    (4)\tperform remediations\n",
    "\n",
    "   "
   ]
  },
  {
   "cell_type": "markdown",
   "id": "eeac547a",
   "metadata": {},
   "source": [
    "# Data Gathering\n",
    "    WeRateDogs Twitter archive data (twitter_archive_enhanced.csv)\n",
    "    tweet image prediction (image_predictions.tsv)\n",
    "    Tweets Data"
   ]
  },
  {
   "cell_type": "code",
   "execution_count": 1,
   "id": "de63ed19",
   "metadata": {},
   "outputs": [],
   "source": [
    "#import needed libraries ( will not be accessing twitter data directly )\n",
    "import requests \n",
    "import tweepy \n",
    "import json  \n",
    "import pandas as pd\n",
    "import numpy as np\n",
    "import requests\n",
    "import matplotlib.pyplot as plt"
   ]
  },
  {
   "cell_type": "markdown",
   "id": "fb76da18",
   "metadata": {},
   "source": [
    "## Import Twitter Archive data"
   ]
  },
  {
   "cell_type": "code",
   "execution_count": 2,
   "id": "6333db06",
   "metadata": {
    "scrolled": true
   },
   "outputs": [
    {
     "data": {
      "text/plain": [
       "(2356, 17)"
      ]
     },
     "execution_count": 2,
     "metadata": {},
     "output_type": "execute_result"
    }
   ],
   "source": [
    "# Import Twitter Archive data,twitter_archive data is a provided file, so this will be a straight forward matter of loading the .CSV file\n",
    "# ta_tf == Twitter Archive DataFrame\n",
    "ta_df = pd.read_csv\\\n",
    "('https://d17h27t6h515a5.cloudfront.net/topher/2017/August/59a4e958_twitter-archive-enhanced/twitter-archive-enhanced.csv')\n",
    "# confirm dataframe creation\n",
    "ta_df.shape"
   ]
  },
  {
   "cell_type": "markdown",
   "id": "64b85e0d",
   "metadata": {},
   "source": [
    "## Import image predictions"
   ]
  },
  {
   "cell_type": "code",
   "execution_count": 3,
   "id": "49b33de0",
   "metadata": {},
   "outputs": [
    {
     "data": {
      "text/plain": [
       "(2075, 12)"
      ]
     },
     "execution_count": 3,
     "metadata": {},
     "output_type": "execute_result"
    }
   ],
   "source": [
    "#import image  predictions file using requests\n",
    "url=('https://d17h27t6h515a5.cloudfront.net/topher/2017/August/599fd2ad_image-predictions/image-predictions.tsv')\n",
    "x = requests.get(url)\n",
    "open('image_predictions.tsv', 'wb').write(x.content)\n",
    "#IP_df =+ image predictions dataframe\n",
    "IP_df = pd.read_csv('image_predictions.tsv', sep = '\\t')\n",
    "# confirm dataframe\n",
    "IP_df.shape"
   ]
  },
  {
   "cell_type": "markdown",
   "id": "3e0c563e",
   "metadata": {},
   "source": [
    "## import tweets and create Json file"
   ]
  },
  {
   "cell_type": "code",
   "execution_count": 4,
   "id": "74a96c78",
   "metadata": {},
   "outputs": [
    {
     "data": {
      "text/plain": [
       "(2354, 3)"
      ]
     },
     "execution_count": 4,
     "metadata": {},
     "output_type": "execute_result"
    }
   ],
   "source": [
    "#As there were issues with my Twitter Developer account, I used the tweet-json file to build a Json file;\n",
    "#variables of intrest are tweet_id, retweet_count, favorite_count\n",
    "tweets_list =[]\n",
    "\n",
    "with open('/Users/michaelmohle/Desktop/wrangle/tweet-json.txt') as json_file:\n",
    "    for line in json_file:\n",
    "    \n",
    "        tweets_dict = {}\n",
    "        tweets_json = json.loads(line)\n",
    "        \n",
    "        try:\n",
    "            tweets_dict['tweet_id'] = tweets_json['extended_entities']['media'][0]['id']\n",
    "        except:\n",
    "            tweets_dict['tweet_id'] = 'na'\n",
    "\n",
    "        tweets_dict['retweet_count'] = tweets_json['retweet_count']\n",
    "        tweets_dict['favorite_count'] = tweets_json['favorite_count']\n",
    "        \n",
    "        tweets_list.append(tweets_dict)\n",
    "#convert dictionary to datafrane\n",
    "tweets_df = pd.DataFrame(tweets_list)\n",
    "# confirm dataframe\n",
    "tweets_df.shape"
   ]
  },
  {
   "cell_type": "markdown",
   "id": "0d321c5c",
   "metadata": {},
   "source": [
    "# Assess and evaluate data\n",
    "For each of the 3 data files the file head and info will be inspected. Based upon the resukts addional inspections may be made,"
   ]
  },
  {
   "cell_type": "code",
   "execution_count": 5,
   "id": "53f8c7d2",
   "metadata": {},
   "outputs": [
    {
     "data": {
      "text/html": [
       "<div>\n",
       "<style scoped>\n",
       "    .dataframe tbody tr th:only-of-type {\n",
       "        vertical-align: middle;\n",
       "    }\n",
       "\n",
       "    .dataframe tbody tr th {\n",
       "        vertical-align: top;\n",
       "    }\n",
       "\n",
       "    .dataframe thead th {\n",
       "        text-align: right;\n",
       "    }\n",
       "</style>\n",
       "<table border=\"1\" class=\"dataframe\">\n",
       "  <thead>\n",
       "    <tr style=\"text-align: right;\">\n",
       "      <th></th>\n",
       "      <th>tweet_id</th>\n",
       "      <th>in_reply_to_status_id</th>\n",
       "      <th>in_reply_to_user_id</th>\n",
       "      <th>timestamp</th>\n",
       "      <th>source</th>\n",
       "      <th>text</th>\n",
       "      <th>retweeted_status_id</th>\n",
       "      <th>retweeted_status_user_id</th>\n",
       "      <th>retweeted_status_timestamp</th>\n",
       "      <th>expanded_urls</th>\n",
       "      <th>rating_numerator</th>\n",
       "      <th>rating_denominator</th>\n",
       "      <th>name</th>\n",
       "      <th>doggo</th>\n",
       "      <th>floofer</th>\n",
       "      <th>pupper</th>\n",
       "      <th>puppo</th>\n",
       "    </tr>\n",
       "  </thead>\n",
       "  <tbody>\n",
       "    <tr>\n",
       "      <th>0</th>\n",
       "      <td>892420643555336193</td>\n",
       "      <td>NaN</td>\n",
       "      <td>NaN</td>\n",
       "      <td>2017-08-01 16:23:56 +0000</td>\n",
       "      <td>&lt;a href=\"http://twitter.com/download/iphone\" r...</td>\n",
       "      <td>This is Phineas. He's a mystical boy. Only eve...</td>\n",
       "      <td>NaN</td>\n",
       "      <td>NaN</td>\n",
       "      <td>NaN</td>\n",
       "      <td>https://twitter.com/dog_rates/status/892420643...</td>\n",
       "      <td>13</td>\n",
       "      <td>10</td>\n",
       "      <td>Phineas</td>\n",
       "      <td>None</td>\n",
       "      <td>None</td>\n",
       "      <td>None</td>\n",
       "      <td>None</td>\n",
       "    </tr>\n",
       "    <tr>\n",
       "      <th>1</th>\n",
       "      <td>892177421306343426</td>\n",
       "      <td>NaN</td>\n",
       "      <td>NaN</td>\n",
       "      <td>2017-08-01 00:17:27 +0000</td>\n",
       "      <td>&lt;a href=\"http://twitter.com/download/iphone\" r...</td>\n",
       "      <td>This is Tilly. She's just checking pup on you....</td>\n",
       "      <td>NaN</td>\n",
       "      <td>NaN</td>\n",
       "      <td>NaN</td>\n",
       "      <td>https://twitter.com/dog_rates/status/892177421...</td>\n",
       "      <td>13</td>\n",
       "      <td>10</td>\n",
       "      <td>Tilly</td>\n",
       "      <td>None</td>\n",
       "      <td>None</td>\n",
       "      <td>None</td>\n",
       "      <td>None</td>\n",
       "    </tr>\n",
       "    <tr>\n",
       "      <th>2</th>\n",
       "      <td>891815181378084864</td>\n",
       "      <td>NaN</td>\n",
       "      <td>NaN</td>\n",
       "      <td>2017-07-31 00:18:03 +0000</td>\n",
       "      <td>&lt;a href=\"http://twitter.com/download/iphone\" r...</td>\n",
       "      <td>This is Archie. He is a rare Norwegian Pouncin...</td>\n",
       "      <td>NaN</td>\n",
       "      <td>NaN</td>\n",
       "      <td>NaN</td>\n",
       "      <td>https://twitter.com/dog_rates/status/891815181...</td>\n",
       "      <td>12</td>\n",
       "      <td>10</td>\n",
       "      <td>Archie</td>\n",
       "      <td>None</td>\n",
       "      <td>None</td>\n",
       "      <td>None</td>\n",
       "      <td>None</td>\n",
       "    </tr>\n",
       "    <tr>\n",
       "      <th>3</th>\n",
       "      <td>891689557279858688</td>\n",
       "      <td>NaN</td>\n",
       "      <td>NaN</td>\n",
       "      <td>2017-07-30 15:58:51 +0000</td>\n",
       "      <td>&lt;a href=\"http://twitter.com/download/iphone\" r...</td>\n",
       "      <td>This is Darla. She commenced a snooze mid meal...</td>\n",
       "      <td>NaN</td>\n",
       "      <td>NaN</td>\n",
       "      <td>NaN</td>\n",
       "      <td>https://twitter.com/dog_rates/status/891689557...</td>\n",
       "      <td>13</td>\n",
       "      <td>10</td>\n",
       "      <td>Darla</td>\n",
       "      <td>None</td>\n",
       "      <td>None</td>\n",
       "      <td>None</td>\n",
       "      <td>None</td>\n",
       "    </tr>\n",
       "    <tr>\n",
       "      <th>4</th>\n",
       "      <td>891327558926688256</td>\n",
       "      <td>NaN</td>\n",
       "      <td>NaN</td>\n",
       "      <td>2017-07-29 16:00:24 +0000</td>\n",
       "      <td>&lt;a href=\"http://twitter.com/download/iphone\" r...</td>\n",
       "      <td>This is Franklin. He would like you to stop ca...</td>\n",
       "      <td>NaN</td>\n",
       "      <td>NaN</td>\n",
       "      <td>NaN</td>\n",
       "      <td>https://twitter.com/dog_rates/status/891327558...</td>\n",
       "      <td>12</td>\n",
       "      <td>10</td>\n",
       "      <td>Franklin</td>\n",
       "      <td>None</td>\n",
       "      <td>None</td>\n",
       "      <td>None</td>\n",
       "      <td>None</td>\n",
       "    </tr>\n",
       "  </tbody>\n",
       "</table>\n",
       "</div>"
      ],
      "text/plain": [
       "             tweet_id  in_reply_to_status_id  in_reply_to_user_id  \\\n",
       "0  892420643555336193                    NaN                  NaN   \n",
       "1  892177421306343426                    NaN                  NaN   \n",
       "2  891815181378084864                    NaN                  NaN   \n",
       "3  891689557279858688                    NaN                  NaN   \n",
       "4  891327558926688256                    NaN                  NaN   \n",
       "\n",
       "                   timestamp  \\\n",
       "0  2017-08-01 16:23:56 +0000   \n",
       "1  2017-08-01 00:17:27 +0000   \n",
       "2  2017-07-31 00:18:03 +0000   \n",
       "3  2017-07-30 15:58:51 +0000   \n",
       "4  2017-07-29 16:00:24 +0000   \n",
       "\n",
       "                                              source  \\\n",
       "0  <a href=\"http://twitter.com/download/iphone\" r...   \n",
       "1  <a href=\"http://twitter.com/download/iphone\" r...   \n",
       "2  <a href=\"http://twitter.com/download/iphone\" r...   \n",
       "3  <a href=\"http://twitter.com/download/iphone\" r...   \n",
       "4  <a href=\"http://twitter.com/download/iphone\" r...   \n",
       "\n",
       "                                                text  retweeted_status_id  \\\n",
       "0  This is Phineas. He's a mystical boy. Only eve...                  NaN   \n",
       "1  This is Tilly. She's just checking pup on you....                  NaN   \n",
       "2  This is Archie. He is a rare Norwegian Pouncin...                  NaN   \n",
       "3  This is Darla. She commenced a snooze mid meal...                  NaN   \n",
       "4  This is Franklin. He would like you to stop ca...                  NaN   \n",
       "\n",
       "   retweeted_status_user_id retweeted_status_timestamp  \\\n",
       "0                       NaN                        NaN   \n",
       "1                       NaN                        NaN   \n",
       "2                       NaN                        NaN   \n",
       "3                       NaN                        NaN   \n",
       "4                       NaN                        NaN   \n",
       "\n",
       "                                       expanded_urls  rating_numerator  \\\n",
       "0  https://twitter.com/dog_rates/status/892420643...                13   \n",
       "1  https://twitter.com/dog_rates/status/892177421...                13   \n",
       "2  https://twitter.com/dog_rates/status/891815181...                12   \n",
       "3  https://twitter.com/dog_rates/status/891689557...                13   \n",
       "4  https://twitter.com/dog_rates/status/891327558...                12   \n",
       "\n",
       "   rating_denominator      name doggo floofer pupper puppo  \n",
       "0                  10   Phineas  None    None   None  None  \n",
       "1                  10     Tilly  None    None   None  None  \n",
       "2                  10    Archie  None    None   None  None  \n",
       "3                  10     Darla  None    None   None  None  \n",
       "4                  10  Franklin  None    None   None  None  "
      ]
     },
     "execution_count": 5,
     "metadata": {},
     "output_type": "execute_result"
    }
   ],
   "source": [
    "ta_df.head()"
   ]
  },
  {
   "cell_type": "code",
   "execution_count": 6,
   "id": "9b3b2e2e",
   "metadata": {},
   "outputs": [
    {
     "name": "stdout",
     "output_type": "stream",
     "text": [
      "<class 'pandas.core.frame.DataFrame'>\n",
      "RangeIndex: 2356 entries, 0 to 2355\n",
      "Data columns (total 17 columns):\n",
      " #   Column                      Non-Null Count  Dtype  \n",
      "---  ------                      --------------  -----  \n",
      " 0   tweet_id                    2356 non-null   int64  \n",
      " 1   in_reply_to_status_id       78 non-null     float64\n",
      " 2   in_reply_to_user_id         78 non-null     float64\n",
      " 3   timestamp                   2356 non-null   object \n",
      " 4   source                      2356 non-null   object \n",
      " 5   text                        2356 non-null   object \n",
      " 6   retweeted_status_id         181 non-null    float64\n",
      " 7   retweeted_status_user_id    181 non-null    float64\n",
      " 8   retweeted_status_timestamp  181 non-null    object \n",
      " 9   expanded_urls               2297 non-null   object \n",
      " 10  rating_numerator            2356 non-null   int64  \n",
      " 11  rating_denominator          2356 non-null   int64  \n",
      " 12  name                        2356 non-null   object \n",
      " 13  doggo                       2356 non-null   object \n",
      " 14  floofer                     2356 non-null   object \n",
      " 15  pupper                      2356 non-null   object \n",
      " 16  puppo                       2356 non-null   object \n",
      "dtypes: float64(4), int64(3), object(10)\n",
      "memory usage: 313.0+ KB\n"
     ]
    }
   ],
   "source": [
    "ta_df.info()"
   ]
  },
  {
   "cell_type": "code",
   "execution_count": 7,
   "id": "bb350387",
   "metadata": {},
   "outputs": [
    {
     "data": {
      "text/html": [
       "<div>\n",
       "<style scoped>\n",
       "    .dataframe tbody tr th:only-of-type {\n",
       "        vertical-align: middle;\n",
       "    }\n",
       "\n",
       "    .dataframe tbody tr th {\n",
       "        vertical-align: top;\n",
       "    }\n",
       "\n",
       "    .dataframe thead th {\n",
       "        text-align: right;\n",
       "    }\n",
       "</style>\n",
       "<table border=\"1\" class=\"dataframe\">\n",
       "  <thead>\n",
       "    <tr style=\"text-align: right;\">\n",
       "      <th></th>\n",
       "      <th>tweet_id</th>\n",
       "      <th>jpg_url</th>\n",
       "      <th>img_num</th>\n",
       "      <th>p1</th>\n",
       "      <th>p1_conf</th>\n",
       "      <th>p1_dog</th>\n",
       "      <th>p2</th>\n",
       "      <th>p2_conf</th>\n",
       "      <th>p2_dog</th>\n",
       "      <th>p3</th>\n",
       "      <th>p3_conf</th>\n",
       "      <th>p3_dog</th>\n",
       "    </tr>\n",
       "  </thead>\n",
       "  <tbody>\n",
       "    <tr>\n",
       "      <th>0</th>\n",
       "      <td>666020888022790149</td>\n",
       "      <td>https://pbs.twimg.com/media/CT4udn0WwAA0aMy.jpg</td>\n",
       "      <td>1</td>\n",
       "      <td>Welsh_springer_spaniel</td>\n",
       "      <td>0.465074</td>\n",
       "      <td>True</td>\n",
       "      <td>collie</td>\n",
       "      <td>0.156665</td>\n",
       "      <td>True</td>\n",
       "      <td>Shetland_sheepdog</td>\n",
       "      <td>0.061428</td>\n",
       "      <td>True</td>\n",
       "    </tr>\n",
       "    <tr>\n",
       "      <th>1</th>\n",
       "      <td>666029285002620928</td>\n",
       "      <td>https://pbs.twimg.com/media/CT42GRgUYAA5iDo.jpg</td>\n",
       "      <td>1</td>\n",
       "      <td>redbone</td>\n",
       "      <td>0.506826</td>\n",
       "      <td>True</td>\n",
       "      <td>miniature_pinscher</td>\n",
       "      <td>0.074192</td>\n",
       "      <td>True</td>\n",
       "      <td>Rhodesian_ridgeback</td>\n",
       "      <td>0.072010</td>\n",
       "      <td>True</td>\n",
       "    </tr>\n",
       "    <tr>\n",
       "      <th>2</th>\n",
       "      <td>666033412701032449</td>\n",
       "      <td>https://pbs.twimg.com/media/CT4521TWwAEvMyu.jpg</td>\n",
       "      <td>1</td>\n",
       "      <td>German_shepherd</td>\n",
       "      <td>0.596461</td>\n",
       "      <td>True</td>\n",
       "      <td>malinois</td>\n",
       "      <td>0.138584</td>\n",
       "      <td>True</td>\n",
       "      <td>bloodhound</td>\n",
       "      <td>0.116197</td>\n",
       "      <td>True</td>\n",
       "    </tr>\n",
       "    <tr>\n",
       "      <th>3</th>\n",
       "      <td>666044226329800704</td>\n",
       "      <td>https://pbs.twimg.com/media/CT5Dr8HUEAA-lEu.jpg</td>\n",
       "      <td>1</td>\n",
       "      <td>Rhodesian_ridgeback</td>\n",
       "      <td>0.408143</td>\n",
       "      <td>True</td>\n",
       "      <td>redbone</td>\n",
       "      <td>0.360687</td>\n",
       "      <td>True</td>\n",
       "      <td>miniature_pinscher</td>\n",
       "      <td>0.222752</td>\n",
       "      <td>True</td>\n",
       "    </tr>\n",
       "    <tr>\n",
       "      <th>4</th>\n",
       "      <td>666049248165822465</td>\n",
       "      <td>https://pbs.twimg.com/media/CT5IQmsXIAAKY4A.jpg</td>\n",
       "      <td>1</td>\n",
       "      <td>miniature_pinscher</td>\n",
       "      <td>0.560311</td>\n",
       "      <td>True</td>\n",
       "      <td>Rottweiler</td>\n",
       "      <td>0.243682</td>\n",
       "      <td>True</td>\n",
       "      <td>Doberman</td>\n",
       "      <td>0.154629</td>\n",
       "      <td>True</td>\n",
       "    </tr>\n",
       "  </tbody>\n",
       "</table>\n",
       "</div>"
      ],
      "text/plain": [
       "             tweet_id                                          jpg_url  \\\n",
       "0  666020888022790149  https://pbs.twimg.com/media/CT4udn0WwAA0aMy.jpg   \n",
       "1  666029285002620928  https://pbs.twimg.com/media/CT42GRgUYAA5iDo.jpg   \n",
       "2  666033412701032449  https://pbs.twimg.com/media/CT4521TWwAEvMyu.jpg   \n",
       "3  666044226329800704  https://pbs.twimg.com/media/CT5Dr8HUEAA-lEu.jpg   \n",
       "4  666049248165822465  https://pbs.twimg.com/media/CT5IQmsXIAAKY4A.jpg   \n",
       "\n",
       "   img_num                      p1   p1_conf  p1_dog                  p2  \\\n",
       "0        1  Welsh_springer_spaniel  0.465074    True              collie   \n",
       "1        1                 redbone  0.506826    True  miniature_pinscher   \n",
       "2        1         German_shepherd  0.596461    True            malinois   \n",
       "3        1     Rhodesian_ridgeback  0.408143    True             redbone   \n",
       "4        1      miniature_pinscher  0.560311    True          Rottweiler   \n",
       "\n",
       "    p2_conf  p2_dog                   p3   p3_conf  p3_dog  \n",
       "0  0.156665    True    Shetland_sheepdog  0.061428    True  \n",
       "1  0.074192    True  Rhodesian_ridgeback  0.072010    True  \n",
       "2  0.138584    True           bloodhound  0.116197    True  \n",
       "3  0.360687    True   miniature_pinscher  0.222752    True  \n",
       "4  0.243682    True             Doberman  0.154629    True  "
      ]
     },
     "execution_count": 7,
     "metadata": {},
     "output_type": "execute_result"
    }
   ],
   "source": [
    "IP_df.head()"
   ]
  },
  {
   "cell_type": "code",
   "execution_count": 8,
   "id": "d2e8230b",
   "metadata": {},
   "outputs": [
    {
     "name": "stdout",
     "output_type": "stream",
     "text": [
      "<class 'pandas.core.frame.DataFrame'>\n",
      "RangeIndex: 2075 entries, 0 to 2074\n",
      "Data columns (total 12 columns):\n",
      " #   Column    Non-Null Count  Dtype  \n",
      "---  ------    --------------  -----  \n",
      " 0   tweet_id  2075 non-null   int64  \n",
      " 1   jpg_url   2075 non-null   object \n",
      " 2   img_num   2075 non-null   int64  \n",
      " 3   p1        2075 non-null   object \n",
      " 4   p1_conf   2075 non-null   float64\n",
      " 5   p1_dog    2075 non-null   bool   \n",
      " 6   p2        2075 non-null   object \n",
      " 7   p2_conf   2075 non-null   float64\n",
      " 8   p2_dog    2075 non-null   bool   \n",
      " 9   p3        2075 non-null   object \n",
      " 10  p3_conf   2075 non-null   float64\n",
      " 11  p3_dog    2075 non-null   bool   \n",
      "dtypes: bool(3), float64(3), int64(2), object(4)\n",
      "memory usage: 152.1+ KB\n"
     ]
    }
   ],
   "source": [
    "IP_df.info()"
   ]
  },
  {
   "cell_type": "code",
   "execution_count": 9,
   "id": "b5b36c50",
   "metadata": {},
   "outputs": [
    {
     "data": {
      "text/html": [
       "<div>\n",
       "<style scoped>\n",
       "    .dataframe tbody tr th:only-of-type {\n",
       "        vertical-align: middle;\n",
       "    }\n",
       "\n",
       "    .dataframe tbody tr th {\n",
       "        vertical-align: top;\n",
       "    }\n",
       "\n",
       "    .dataframe thead th {\n",
       "        text-align: right;\n",
       "    }\n",
       "</style>\n",
       "<table border=\"1\" class=\"dataframe\">\n",
       "  <thead>\n",
       "    <tr style=\"text-align: right;\">\n",
       "      <th></th>\n",
       "      <th>tweet_id</th>\n",
       "      <th>retweet_count</th>\n",
       "      <th>favorite_count</th>\n",
       "    </tr>\n",
       "  </thead>\n",
       "  <tbody>\n",
       "    <tr>\n",
       "      <th>0</th>\n",
       "      <td>892420639486877696</td>\n",
       "      <td>8853</td>\n",
       "      <td>39467</td>\n",
       "    </tr>\n",
       "    <tr>\n",
       "      <th>1</th>\n",
       "      <td>892177413194625024</td>\n",
       "      <td>6514</td>\n",
       "      <td>33819</td>\n",
       "    </tr>\n",
       "    <tr>\n",
       "      <th>2</th>\n",
       "      <td>891815175371796480</td>\n",
       "      <td>4328</td>\n",
       "      <td>25461</td>\n",
       "    </tr>\n",
       "    <tr>\n",
       "      <th>3</th>\n",
       "      <td>891689552724799489</td>\n",
       "      <td>8964</td>\n",
       "      <td>42908</td>\n",
       "    </tr>\n",
       "    <tr>\n",
       "      <th>4</th>\n",
       "      <td>891327551943041024</td>\n",
       "      <td>9774</td>\n",
       "      <td>41048</td>\n",
       "    </tr>\n",
       "  </tbody>\n",
       "</table>\n",
       "</div>"
      ],
      "text/plain": [
       "             tweet_id  retweet_count  favorite_count\n",
       "0  892420639486877696           8853           39467\n",
       "1  892177413194625024           6514           33819\n",
       "2  891815175371796480           4328           25461\n",
       "3  891689552724799489           8964           42908\n",
       "4  891327551943041024           9774           41048"
      ]
     },
     "execution_count": 9,
     "metadata": {},
     "output_type": "execute_result"
    }
   ],
   "source": [
    "tweets_df.head()"
   ]
  },
  {
   "cell_type": "code",
   "execution_count": 10,
   "id": "d7d5b2bd",
   "metadata": {},
   "outputs": [
    {
     "name": "stdout",
     "output_type": "stream",
     "text": [
      "<class 'pandas.core.frame.DataFrame'>\n",
      "RangeIndex: 2354 entries, 0 to 2353\n",
      "Data columns (total 3 columns):\n",
      " #   Column          Non-Null Count  Dtype \n",
      "---  ------          --------------  ----- \n",
      " 0   tweet_id        2354 non-null   object\n",
      " 1   retweet_count   2354 non-null   int64 \n",
      " 2   favorite_count  2354 non-null   int64 \n",
      "dtypes: int64(2), object(1)\n",
      "memory usage: 55.3+ KB\n"
     ]
    }
   ],
   "source": [
    "tweets_df.info()"
   ]
  },
  {
   "cell_type": "markdown",
   "id": "76200482",
   "metadata": {},
   "source": [
    "## Tideness issues\n",
    "1. For twitter-archive: Dog catagory values are spread accross the doggo, floofer, pupper, and puppo columns\n",
    "2. For twitter-archive: Retweet/In Reply rows could potentialy refer to already exsisting tweet rows thus raising the prospect of multiple rows with same original tweet ID\n",
    "\n",
    "## Quality issues\n",
    "1. For twitter-archive numerator ratings: some values lie outside the 1-10 range thus skewing the data\n",
    "2. For twitter-archive denominator ratings: some values lie outside the 1-10 range thus skewing the data. in one case the value is zero thus amaking any calculated value using this data problematic.\n",
    "3. For twitter-archive: In some cases there may be multiple values for a row in doggo, floofer, pupper, and puppo columns, this will be determine once the informstion in those 4 columns is transformed from wide to tall.\n",
    "4. For twitter-archive: In isolation the numeraor and denomenator columns lack value, a new calculated column needs to created that provides a rating value, making it easier to perform analysis.\n",
    "5. For image predications, some images in the p1 column (highest confidence) have a false value.\n",
    "6. For image predications: p2, p2_conf, p2_dog, p3, p3_conf, p3_dogare unnessary as we should default to the value with the highest confidence/\n",
    "7. For Tweets: some values in tweet_id are not integers (this will be the value used to join dataframes\n",
    "8. Some column headings are unclear (Twitter Archive: source, image  predictions: p1 and will be renamed in the interest of clarity"
   ]
  },
  {
   "cell_type": "markdown",
   "id": "393353f1",
   "metadata": {},
   "source": [
    "## Prior to remediation copies of the dataframes will be made."
   ]
  },
  {
   "cell_type": "code",
   "execution_count": 11,
   "id": "a518e29e",
   "metadata": {},
   "outputs": [],
   "source": [
    "ta_df_new = ta_df.copy()\n",
    "IP_df_new = IP_df.copy()\n",
    "tweets_df_new = tweets_df.copy()"
   ]
  },
  {
   "cell_type": "code",
   "execution_count": 12,
   "id": "d816a0e9",
   "metadata": {},
   "outputs": [
    {
     "name": "stdout",
     "output_type": "stream",
     "text": [
      "(2356, 17) (2075, 12) (2354, 3)\n"
     ]
    }
   ],
   "source": [
    "x, y, z = ta_df_new.shape, IP_df_new.shape, tweets_df_new.shape\n",
    "print(x,y,z)\n",
    "# confirm copy, expected values: (2356, 17),(2075, 12), (2354, 3) "
   ]
  },
  {
   "cell_type": "markdown",
   "id": "cd0fb0c7",
   "metadata": {},
   "source": [
    "# Data Quality Issue 3\n",
    "## Note:\n",
    "Quality issue 3 is  taken out of order aso as to address tideness issues first\n",
    "\n",
    "## Define Quality Issue 3.\n",
    "For twitter-archive: In some cases there are multiple values for a row in doggo, floofer, pupper, and puppo columns.\n"
   ]
  },
  {
   "cell_type": "markdown",
   "id": "304a0009",
   "metadata": {},
   "source": [
    "## Remidiation code Quality Issue 3"
   ]
  },
  {
   "cell_type": "code",
   "execution_count": 13,
   "id": "ad745827",
   "metadata": {},
   "outputs": [
    {
     "name": "stdout",
     "output_type": "stream",
     "text": [
      "14\n",
      "[191, 200, 460, 531, 565, 575, 705, 733, 778, 822, 889, 956, 1063, 1113]\n"
     ]
    }
   ],
   "source": [
    "#check if rows have multiple value aside from none.\n",
    "multiples = []\n",
    "for i in range(0, len(ta_df_new.index)):\n",
    "    if ta_df_new.doggo[i] == 'doggo' and (ta_df_new.floofer[i] == 'floofer' \\\n",
    "                                     or ta_df_new.pupper[i] == 'pupper' \\\n",
    "                                     or ta_df_new.puppo[i] == 'puppo'):\n",
    "        multiples.append(i)\n",
    "# print number of rows with multibile values then the row numbers\n",
    "print(len(multiples))\n",
    "print(multiples)"
   ]
  },
  {
   "cell_type": "code",
   "execution_count": 14,
   "id": "ce06f023",
   "metadata": {},
   "outputs": [],
   "source": [
    "# starting value, used to confirm the drop\n",
    "x = ta_df_new.shape\n",
    "#drop rows with multipile values\n",
    "ta_df_new.drop(multiples, axis = 0, inplace = True)"
   ]
  },
  {
   "cell_type": "markdown",
   "id": "dae50057",
   "metadata": {},
   "source": [
    "# Test remediation code Quality Issue 3"
   ]
  },
  {
   "cell_type": "code",
   "execution_count": 15,
   "id": "8e7ffb70",
   "metadata": {},
   "outputs": [
    {
     "name": "stdout",
     "output_type": "stream",
     "text": [
      "(2356, 17) (2342, 17)\n"
     ]
    }
   ],
   "source": [
    "y = ta_df_new.shape\n",
    "# value after drop, used to confirm the drop\n",
    "print(x, y)"
   ]
  },
  {
   "cell_type": "markdown",
   "id": "6eda2331",
   "metadata": {},
   "source": [
    "# Tideness Issue 1\n",
    "## Define Tideness Issue 1\n",
    "For twitter-archive: Dog catagory values are spread accross the doggo, floofer, pupper, and puppo columns\n",
    "## Remidiation code Tideness Issue 1"
   ]
  },
  {
   "cell_type": "code",
   "execution_count": 16,
   "id": "255144b5",
   "metadata": {},
   "outputs": [],
   "source": [
    "melt_columns = ['doggo', 'floofer', 'pupper', 'puppo']\n",
    "catogory_columns = [x for x in ta_df_new.columns.tolist() if x not in melt_columns]\n",
    "ta_df_new = pd.melt(ta_df_new, id_vars = catogory_columns, value_vars = melt_columns, \\\n",
    "                    var_name = 'Type', value_name = 'Dog_type')"
   ]
  },
  {
   "cell_type": "code",
   "execution_count": 17,
   "id": "2589edd9",
   "metadata": {},
   "outputs": [],
   "source": [
    "#Drop 'Type' column\n",
    "ta_df_new = ta_df_new.drop('Type', 1)"
   ]
  },
  {
   "cell_type": "markdown",
   "id": "3973beb5",
   "metadata": {},
   "source": [
    "# Test remediation code Tideness Issue 1"
   ]
  },
  {
   "cell_type": "code",
   "execution_count": 18,
   "id": "68b9f9d8",
   "metadata": {},
   "outputs": [
    {
     "data": {
      "text/plain": [
       "None       9002\n",
       "pupper      245\n",
       "doggo        83\n",
       "puppo        29\n",
       "floofer       9\n",
       "Name: Dog_type, dtype: int64"
      ]
     },
     "execution_count": 18,
     "metadata": {},
     "output_type": "execute_result"
    }
   ],
   "source": [
    "ta_df_new['Dog_type'].value_counts()"
   ]
  },
  {
   "cell_type": "markdown",
   "id": "1d5c64a9",
   "metadata": {},
   "source": [
    "# Tideness issue 2\n",
    "## Define Tideness Issue 2\n",
    "For twitter-archive: Retweet/In Reply rows could potentially refer to already existing tweet rows thus raising the prospect of multiple rows with same original tweet ID"
   ]
  },
  {
   "cell_type": "markdown",
   "id": "36381ee0",
   "metadata": {},
   "source": [
    "Determine number of rows to be deleted"
   ]
  },
  {
   "cell_type": "code",
   "execution_count": 19,
   "id": "96709574",
   "metadata": {},
   "outputs": [
    {
     "data": {
      "text/plain": [
       "308"
      ]
     },
     "execution_count": 19,
     "metadata": {},
     "output_type": "execute_result"
    }
   ],
   "source": [
    "#get row count to be dropped\n",
    "ta_df_new.in_reply_to_status_id.notnull().sum()"
   ]
  },
  {
   "cell_type": "markdown",
   "id": "54f979e3",
   "metadata": {},
   "source": [
    "## Remidiation code Tideness Issue 2"
   ]
  },
  {
   "cell_type": "code",
   "execution_count": 22,
   "id": "351bd7eb",
   "metadata": {},
   "outputs": [],
   "source": [
    "#drop rows with value in 'retweeted_status_id'\n",
    "ta_df_new.drop(ta_df_new[ta_df_new.in_reply_to_status_id.notnull()].index, inplace = True)\n"
   ]
  },
  {
   "cell_type": "markdown",
   "id": "fad26b24",
   "metadata": {},
   "source": [
    "## Test remediation code Tideness Issue 2"
   ]
  },
  {
   "cell_type": "code",
   "execution_count": 23,
   "id": "2c94bb92",
   "metadata": {},
   "outputs": [
    {
     "data": {
      "text/plain": [
       "0"
      ]
     },
     "execution_count": 23,
     "metadata": {},
     "output_type": "execute_result"
    }
   ],
   "source": [
    "ta_df_new.in_reply_to_status_id.notnull().sum()"
   ]
  },
  {
   "cell_type": "markdown",
   "id": "d19d1c55",
   "metadata": {},
   "source": [
    "# Quality Issues 1 - 8 (not including 3(above))"
   ]
  },
  {
   "cell_type": "markdown",
   "id": "7bf9e768",
   "metadata": {},
   "source": [
    "# Data Quality Issue 1. \n",
    "## Define Quality Issue 1\n",
    "For twitter-archive numerator ratings: some values lie outside the 1-10 range thus skewing the data"
   ]
  },
  {
   "cell_type": "code",
   "execution_count": 24,
   "id": "56915113",
   "metadata": {},
   "outputs": [
    {
     "data": {
      "text/plain": [
       "12      1920\n",
       "10      1740\n",
       "11      1648\n",
       "13      1140\n",
       "9        612\n",
       "8        392\n",
       "7        208\n",
       "14       152\n",
       "5        132\n",
       "6        128\n",
       "3         76\n",
       "4         64\n",
       "2         36\n",
       "1         20\n",
       "45         4\n",
       "44         4\n",
       "165        4\n",
       "420        4\n",
       "204        4\n",
       "84         4\n",
       "60         4\n",
       "0          4\n",
       "99         4\n",
       "75         4\n",
       "50         4\n",
       "26         4\n",
       "121        4\n",
       "1776       4\n",
       "144        4\n",
       "88         4\n",
       "80         4\n",
       "24         4\n",
       "27         4\n",
       "Name: rating_numerator, dtype: int64"
      ]
     },
     "execution_count": 24,
     "metadata": {},
     "output_type": "execute_result"
    }
   ],
   "source": [
    "#Determine scope of issue\n",
    "# get value counts for numerator\n",
    "ta_df_new['rating_numerator'].value_counts()"
   ]
  },
  {
   "cell_type": "markdown",
   "id": "55211345",
   "metadata": {},
   "source": [
    "## Remidiation code Quality Issue 1"
   ]
  },
  {
   "cell_type": "code",
   "execution_count": 25,
   "id": "0dc45114",
   "metadata": {},
   "outputs": [],
   "source": [
    "ta_df_new.loc[ta_df_new['rating_numerator'] > 10, 'rating_numerator'] = 10\n",
    "\n"
   ]
  },
  {
   "cell_type": "markdown",
   "id": "a7b98a4c",
   "metadata": {},
   "source": [
    "## Test remediation code Quality Issue 1"
   ]
  },
  {
   "cell_type": "code",
   "execution_count": 26,
   "id": "2344b472",
   "metadata": {},
   "outputs": [
    {
     "data": {
      "text/plain": [
       "10    6672\n",
       "9      612\n",
       "8      392\n",
       "7      208\n",
       "5      132\n",
       "6      128\n",
       "3       76\n",
       "4       64\n",
       "2       36\n",
       "1       20\n",
       "0        4\n",
       "Name: rating_numerator, dtype: int64"
      ]
     },
     "execution_count": 26,
     "metadata": {},
     "output_type": "execute_result"
    }
   ],
   "source": [
    "\n",
    "ta_df_new['rating_numerator'].value_counts()"
   ]
  },
  {
   "cell_type": "markdown",
   "id": "ecaf3925",
   "metadata": {},
   "source": [
    "# Data Quality Issue 2 \n",
    "## Define Quality Issue 2\n",
    "For twitter-archive denominator ratings: some values lie outside the 1-10 range thus skewing the data. "
   ]
  },
  {
   "cell_type": "code",
   "execution_count": 27,
   "id": "f0813d83",
   "metadata": {},
   "outputs": [
    {
     "data": {
      "text/plain": [
       "10     8276\n",
       "50       12\n",
       "80        8\n",
       "11        8\n",
       "40        4\n",
       "120       4\n",
       "2         4\n",
       "90        4\n",
       "170       4\n",
       "20        4\n",
       "70        4\n",
       "110       4\n",
       "150       4\n",
       "7         4\n",
       "Name: rating_denominator, dtype: int64"
      ]
     },
     "execution_count": 27,
     "metadata": {},
     "output_type": "execute_result"
    }
   ],
   "source": [
    "# determine scope of issue\n",
    "ta_df_new['rating_denominator'].value_counts()"
   ]
  },
  {
   "cell_type": "markdown",
   "id": "1f9e6e6d",
   "metadata": {},
   "source": [
    "## Remediation code Quality Issue 2"
   ]
  },
  {
   "cell_type": "code",
   "execution_count": 28,
   "id": "387bd813",
   "metadata": {},
   "outputs": [],
   "source": [
    "# set all denominator values to 10\n",
    "ta_df_new['rating_denominator'] = 10\n"
   ]
  },
  {
   "cell_type": "markdown",
   "id": "42dda1b3",
   "metadata": {},
   "source": [
    "## Test remediation code Quality Issue 2"
   ]
  },
  {
   "cell_type": "code",
   "execution_count": 29,
   "id": "5c9b509c",
   "metadata": {},
   "outputs": [
    {
     "data": {
      "text/plain": [
       "10    8344\n",
       "Name: rating_denominator, dtype: int64"
      ]
     },
     "execution_count": 29,
     "metadata": {},
     "output_type": "execute_result"
    }
   ],
   "source": [
    "ta_df_new['rating_denominator'].value_counts()"
   ]
  },
  {
   "cell_type": "markdown",
   "id": "0e473e3c",
   "metadata": {},
   "source": [
    "## Data Quality Issue 3 \n",
    "addressed above"
   ]
  },
  {
   "cell_type": "markdown",
   "id": "3cec97c2",
   "metadata": {},
   "source": [
    "# Data Quality Issue 4\n",
    "## Define Quality Issue 4\n",
    "For twitter-archive: In isolation the numerator and denominator columns lack value, a new calculated column needs to created that provides a rating value, making it easier to perform analysis."
   ]
  },
  {
   "cell_type": "markdown",
   "id": "c874b937",
   "metadata": {},
   "source": [
    "## Remediation code Quality Issue 4"
   ]
  },
  {
   "cell_type": "code",
   "execution_count": 30,
   "id": "94e91d86",
   "metadata": {},
   "outputs": [],
   "source": [
    "# create calculated column\n",
    "ta_df_new['Rating'] = ta_df_new['rating_numerator']/ta_df_new['rating_denominator']"
   ]
  },
  {
   "cell_type": "markdown",
   "id": "5385538a",
   "metadata": {},
   "source": [
    "## Test remediation code Quality Issue 4"
   ]
  },
  {
   "cell_type": "code",
   "execution_count": 31,
   "id": "dfa5b43e",
   "metadata": {},
   "outputs": [
    {
     "name": "stdout",
     "output_type": "stream",
     "text": [
      "<class 'pandas.core.frame.DataFrame'>\n",
      "Int64Index: 8344 entries, 0 to 9367\n",
      "Data columns (total 15 columns):\n",
      " #   Column                      Non-Null Count  Dtype  \n",
      "---  ------                      --------------  -----  \n",
      " 0   tweet_id                    8344 non-null   int64  \n",
      " 1   in_reply_to_status_id       0 non-null      float64\n",
      " 2   in_reply_to_user_id         0 non-null      float64\n",
      " 3   timestamp                   8344 non-null   object \n",
      " 4   source                      8344 non-null   object \n",
      " 5   text                        8344 non-null   object \n",
      " 6   retweeted_status_id         0 non-null      float64\n",
      " 7   retweeted_status_user_id    0 non-null      float64\n",
      " 8   retweeted_status_timestamp  0 non-null      object \n",
      " 9   expanded_urls               8332 non-null   object \n",
      " 10  rating_numerator            8344 non-null   int64  \n",
      " 11  rating_denominator          8344 non-null   int64  \n",
      " 12  name                        8344 non-null   object \n",
      " 13  Dog_type                    8344 non-null   object \n",
      " 14  Rating                      8344 non-null   float64\n",
      "dtypes: float64(5), int64(3), object(7)\n",
      "memory usage: 1.0+ MB\n"
     ]
    }
   ],
   "source": [
    "ta_df_new.info()"
   ]
  },
  {
   "cell_type": "markdown",
   "id": "28131198",
   "metadata": {},
   "source": [
    "# Data Quality Issue 5\n",
    "## Define Quality Issue 5\n",
    "For image predications, some images in the p1 column (highest confidence) have a false value. As such these rows will be dropped"
   ]
  },
  {
   "cell_type": "markdown",
   "id": "878851d1",
   "metadata": {},
   "source": [
    "## Remediation code Quality Issue 5"
   ]
  },
  {
   "cell_type": "code",
   "execution_count": 32,
   "id": "eab02d81",
   "metadata": {},
   "outputs": [
    {
     "data": {
      "text/plain": [
       "True     1532\n",
       "False     543\n",
       "Name: p1_dog, dtype: int64"
      ]
     },
     "execution_count": 32,
     "metadata": {},
     "output_type": "execute_result"
    }
   ],
   "source": [
    "#determine count of rows to be dropped\n",
    "IP_df_new['p1_dog'].value_counts()"
   ]
  },
  {
   "cell_type": "code",
   "execution_count": 34,
   "id": "8f70abb7",
   "metadata": {},
   "outputs": [],
   "source": [
    "#drop rows where value in p1_dog is false\n",
    "IP_df_new.drop(IP_df_new[IP_df_new['p1_dog']  == False].index, inplace =\n",
    "True)\n"
   ]
  },
  {
   "cell_type": "markdown",
   "id": "fecc95f1",
   "metadata": {},
   "source": [
    "## Test remediation code Quality Issue 5"
   ]
  },
  {
   "cell_type": "code",
   "execution_count": 35,
   "id": "c466eb7b",
   "metadata": {},
   "outputs": [
    {
     "data": {
      "text/plain": [
       "True    1532\n",
       "Name: p1_dog, dtype: int64"
      ]
     },
     "execution_count": 35,
     "metadata": {},
     "output_type": "execute_result"
    }
   ],
   "source": [
    "#confirm drop\n",
    "IP_df_new['p1_dog'].value_counts()"
   ]
  },
  {
   "cell_type": "code",
   "execution_count": 36,
   "id": "1f8eb577",
   "metadata": {},
   "outputs": [
    {
     "data": {
      "text/plain": [
       "golden_retriever      150\n",
       "Labrador_retriever    100\n",
       "Pembroke               89\n",
       "Chihuahua              83\n",
       "pug                    57\n",
       "                     ... \n",
       "groenendael             1\n",
       "EntleBucher             1\n",
       "clumber                 1\n",
       "Scotch_terrier          1\n",
       "Japanese_spaniel        1\n",
       "Name: p1, Length: 111, dtype: int64"
      ]
     },
     "execution_count": 36,
     "metadata": {},
     "output_type": "execute_result"
    }
   ],
   "source": [
    "# inspect p1 for non dog types\n",
    "IP_df_new['p1'].value_counts()"
   ]
  },
  {
   "cell_type": "markdown",
   "id": "4fdd0707",
   "metadata": {},
   "source": [
    "to the best of my knowledge these are all dog breeds"
   ]
  },
  {
   "cell_type": "markdown",
   "id": "01ff8845",
   "metadata": {},
   "source": [
    "# Data Quality Issue 6\n",
    "## Define Quality Issue 6\n",
    "For image predications: p2, p2_conf, p2_dog, p3, p3_conf, p3_dog are unnecessary as we should default to the value with the highest confidence(p1) as such drop img_num, p1_conf, p1_dog, p2, p2_conf, p2_dog, p3, p3_conf, p3_dog\n",
    "columns\n"
   ]
  },
  {
   "cell_type": "markdown",
   "id": "fc3eb0fa",
   "metadata": {},
   "source": [
    "## Remediation code Quality Issue 6"
   ]
  },
  {
   "cell_type": "code",
   "execution_count": 37,
   "id": "e2488799",
   "metadata": {},
   "outputs": [],
   "source": [
    "IP_df_new.drop(['img_num','p1_conf', 'p1_dog', 'p2',\\\n",
    "                   'p2_conf', 'p2_dog', 'p3', 'p3_conf', 'p3_dog'], \\\n",
    "                 axis=1, inplace = True)\n"
   ]
  },
  {
   "cell_type": "markdown",
   "id": "1de913b2",
   "metadata": {},
   "source": [
    "## Test remediation code Quality Issue 6"
   ]
  },
  {
   "cell_type": "code",
   "execution_count": 38,
   "id": "956984f2",
   "metadata": {},
   "outputs": [
    {
     "data": {
      "text/plain": [
       "(1532, 3)"
      ]
     },
     "execution_count": 38,
     "metadata": {},
     "output_type": "execute_result"
    }
   ],
   "source": [
    "#inspect dataFrame expected column value is 3\n",
    "IP_df_new.shape"
   ]
  },
  {
   "cell_type": "markdown",
   "id": "df1142a7",
   "metadata": {},
   "source": [
    "# Data Quality Issue 7\n",
    "## Define Quality Issue 7\n",
    "For the Tweet Json file: some values in tweet_id are not integers (this will be the value used to join dataframes)\n"
   ]
  },
  {
   "cell_type": "markdown",
   "id": "c4d08edb",
   "metadata": {},
   "source": [
    "## Remediation code Quality Issue 7"
   ]
  },
  {
   "cell_type": "code",
   "execution_count": 39,
   "id": "e7322faa",
   "metadata": {},
   "outputs": [
    {
     "name": "stdout",
     "output_type": "stream",
     "text": [
      "281\n"
     ]
    }
   ],
   "source": [
    "#Determine tweet_id values that are not integers,\n",
    "non_int_tweet_id_index = []\n",
    "\n",
    "for i in range(0, len(tweets_df_new.tweet_id)):\n",
    "    if type(tweets_df_new.tweet_id[i]) != int:\n",
    "        non_int_tweet_id_index.append(i)\n",
    "print(len(non_int_tweet_id_index))"
   ]
  },
  {
   "cell_type": "code",
   "execution_count": 41,
   "id": "e42efd32",
   "metadata": {},
   "outputs": [],
   "source": [
    "# drop rows without int values in tweet_id\n",
    "for i in non_int_tweet_id_index:\n",
    "    tweets_df_new.drop(tweets_df_new[tweets_df_new.index == i].index,\n",
    "inplace=True)\n",
    "#reset index\n",
    "tweets_df_new = tweets_df_new.reset_index()\n",
    "del tweets_df_new['index']\n"
   ]
  },
  {
   "cell_type": "code",
   "execution_count": 42,
   "id": "3c7789b9",
   "metadata": {},
   "outputs": [],
   "source": [
    "#reset index\n",
    "tweets_df_new = tweets_df_new.reset_index()\n",
    "del tweets_df_new['index']"
   ]
  },
  {
   "cell_type": "markdown",
   "id": "61be8616",
   "metadata": {},
   "source": [
    "## Test remediation code Quality Issue 7"
   ]
  },
  {
   "cell_type": "code",
   "execution_count": 43,
   "id": "6e1497cb",
   "metadata": {},
   "outputs": [
    {
     "name": "stdout",
     "output_type": "stream",
     "text": [
      "0\n"
     ]
    }
   ],
   "source": [
    "#confirm drop\n",
    "non_int_tweet_id_index = []\n",
    "for i in range(0, len(tweets_df_new.tweet_id)):\n",
    "    if type(tweets_df_new.tweet_id[i]) != int:\n",
    "        non_int_tweet_id_index.append(i)\n",
    "print(len(non_int_tweet_id_index))"
   ]
  },
  {
   "cell_type": "markdown",
   "id": "0512a629",
   "metadata": {},
   "source": [
    "# Data Quality Issue 8\n",
    "Renaming unclear column headings will be addressed when the 5 dataframes are combined. see below"
   ]
  },
  {
   "cell_type": "markdown",
   "id": "74350ef1",
   "metadata": {},
   "source": [
    "# Additonal remidations .\n",
    "1) Drop rating_numerator, rating_denominator columns\n",
    "2) As they will no longer be needed drop in_reply_to_status_id, in_reply_to_user_id, retweeted_status_user_id, retweeted_status_id, retweeted_status_timestamp"
   ]
  },
  {
   "cell_type": "code",
   "execution_count": 44,
   "id": "a242526a",
   "metadata": {},
   "outputs": [],
   "source": [
    "# drop columns\n",
    "ta_df_new.drop(['rating_numerator', 'rating_denominator','in_reply_to_status_id', \\\n",
    "                'in_reply_to_user_id', 'retweeted_status_id', 'retweeted_status_user_id',\\\n",
    "                'retweeted_status_timestamp'], \\\n",
    "                 axis=1, inplace = True)"
   ]
  },
  {
   "cell_type": "code",
   "execution_count": 45,
   "id": "f5c978c9",
   "metadata": {},
   "outputs": [
    {
     "name": "stdout",
     "output_type": "stream",
     "text": [
      "<class 'pandas.core.frame.DataFrame'>\n",
      "Int64Index: 8344 entries, 0 to 9367\n",
      "Data columns (total 8 columns):\n",
      " #   Column         Non-Null Count  Dtype  \n",
      "---  ------         --------------  -----  \n",
      " 0   tweet_id       8344 non-null   int64  \n",
      " 1   timestamp      8344 non-null   object \n",
      " 2   source         8344 non-null   object \n",
      " 3   text           8344 non-null   object \n",
      " 4   expanded_urls  8332 non-null   object \n",
      " 5   name           8344 non-null   object \n",
      " 6   Dog_type       8344 non-null   object \n",
      " 7   Rating         8344 non-null   float64\n",
      "dtypes: float64(1), int64(1), object(6)\n",
      "memory usage: 586.7+ KB\n"
     ]
    }
   ],
   "source": [
    "#confirm drop\n",
    "ta_df_new.info()"
   ]
  },
  {
   "cell_type": "markdown",
   "id": "64af108d",
   "metadata": {},
   "source": [
    "#reset index\n",
    "df_tweets_new = df_tweets_new.reset_index()\n",
    "del df_tweets_new['index']"
   ]
  },
  {
   "cell_type": "markdown",
   "id": "9d12b408",
   "metadata": {},
   "source": [
    "# Create master data frame\n",
    "merge 3 dataframes into one master dataaframe"
   ]
  },
  {
   "cell_type": "code",
   "execution_count": 46,
   "id": "66bd494e",
   "metadata": {},
   "outputs": [],
   "source": [
    "combo_df = pd.merge(ta_df_new, IP_df_new, on =['tweet_id'], how='left')"
   ]
  },
  {
   "cell_type": "code",
   "execution_count": 47,
   "id": "9b8aa2e1",
   "metadata": {},
   "outputs": [
    {
     "data": {
      "text/plain": [
       "(8344, 10)"
      ]
     },
     "execution_count": 47,
     "metadata": {},
     "output_type": "execute_result"
    }
   ],
   "source": [
    "#confirm merge\n",
    "combo_df.shape"
   ]
  },
  {
   "cell_type": "code",
   "execution_count": 48,
   "id": "aad215cc",
   "metadata": {},
   "outputs": [],
   "source": [
    "master_df = pd.merge(combo_df, tweets_df_new, on =['tweet_id'], how='left')"
   ]
  },
  {
   "cell_type": "code",
   "execution_count": 49,
   "id": "2227f722",
   "metadata": {},
   "outputs": [
    {
     "data": {
      "text/plain": [
       "(8344, 12)"
      ]
     },
     "execution_count": 49,
     "metadata": {},
     "output_type": "execute_result"
    }
   ],
   "source": [
    "#confirm merge\n",
    "master_df.shape"
   ]
  },
  {
   "cell_type": "markdown",
   "id": "a2882b23",
   "metadata": {},
   "source": [
    "# Data Quality Issue 8\n",
    "## Define Quality Issue 8\n",
    "rename unclear columular headings"
   ]
  },
  {
   "cell_type": "markdown",
   "id": "26d58e2b",
   "metadata": {},
   "source": [
    "## Remediation code Quality Issue 8"
   ]
  },
  {
   "cell_type": "code",
   "execution_count": 50,
   "id": "098bca5d",
   "metadata": {},
   "outputs": [],
   "source": [
    "master_df = master_df.rename(columns = {'p1':'Breed'})"
   ]
  },
  {
   "cell_type": "markdown",
   "id": "e06840ce",
   "metadata": {},
   "source": [
    "## Test remediation code Quality Issue 8"
   ]
  },
  {
   "cell_type": "code",
   "execution_count": 51,
   "id": "0ae86fea",
   "metadata": {},
   "outputs": [
    {
     "data": {
      "text/html": [
       "<div>\n",
       "<style scoped>\n",
       "    .dataframe tbody tr th:only-of-type {\n",
       "        vertical-align: middle;\n",
       "    }\n",
       "\n",
       "    .dataframe tbody tr th {\n",
       "        vertical-align: top;\n",
       "    }\n",
       "\n",
       "    .dataframe thead th {\n",
       "        text-align: right;\n",
       "    }\n",
       "</style>\n",
       "<table border=\"1\" class=\"dataframe\">\n",
       "  <thead>\n",
       "    <tr style=\"text-align: right;\">\n",
       "      <th></th>\n",
       "      <th>tweet_id</th>\n",
       "      <th>timestamp</th>\n",
       "      <th>source</th>\n",
       "      <th>text</th>\n",
       "      <th>expanded_urls</th>\n",
       "      <th>name</th>\n",
       "      <th>Dog_type</th>\n",
       "      <th>Rating</th>\n",
       "      <th>jpg_url</th>\n",
       "      <th>Breed</th>\n",
       "      <th>retweet_count</th>\n",
       "      <th>favorite_count</th>\n",
       "    </tr>\n",
       "  </thead>\n",
       "  <tbody>\n",
       "    <tr>\n",
       "      <th>0</th>\n",
       "      <td>892420643555336193</td>\n",
       "      <td>2017-08-01 16:23:56 +0000</td>\n",
       "      <td>&lt;a href=\"http://twitter.com/download/iphone\" r...</td>\n",
       "      <td>This is Phineas. He's a mystical boy. Only eve...</td>\n",
       "      <td>https://twitter.com/dog_rates/status/892420643...</td>\n",
       "      <td>Phineas</td>\n",
       "      <td>None</td>\n",
       "      <td>1.0</td>\n",
       "      <td>NaN</td>\n",
       "      <td>NaN</td>\n",
       "      <td>NaN</td>\n",
       "      <td>NaN</td>\n",
       "    </tr>\n",
       "    <tr>\n",
       "      <th>1</th>\n",
       "      <td>892177421306343426</td>\n",
       "      <td>2017-08-01 00:17:27 +0000</td>\n",
       "      <td>&lt;a href=\"http://twitter.com/download/iphone\" r...</td>\n",
       "      <td>This is Tilly. She's just checking pup on you....</td>\n",
       "      <td>https://twitter.com/dog_rates/status/892177421...</td>\n",
       "      <td>Tilly</td>\n",
       "      <td>None</td>\n",
       "      <td>1.0</td>\n",
       "      <td>https://pbs.twimg.com/media/DGGmoV4XsAAUL6n.jpg</td>\n",
       "      <td>Chihuahua</td>\n",
       "      <td>NaN</td>\n",
       "      <td>NaN</td>\n",
       "    </tr>\n",
       "    <tr>\n",
       "      <th>2</th>\n",
       "      <td>891815181378084864</td>\n",
       "      <td>2017-07-31 00:18:03 +0000</td>\n",
       "      <td>&lt;a href=\"http://twitter.com/download/iphone\" r...</td>\n",
       "      <td>This is Archie. He is a rare Norwegian Pouncin...</td>\n",
       "      <td>https://twitter.com/dog_rates/status/891815181...</td>\n",
       "      <td>Archie</td>\n",
       "      <td>None</td>\n",
       "      <td>1.0</td>\n",
       "      <td>https://pbs.twimg.com/media/DGBdLU1WsAANxJ9.jpg</td>\n",
       "      <td>Chihuahua</td>\n",
       "      <td>NaN</td>\n",
       "      <td>NaN</td>\n",
       "    </tr>\n",
       "    <tr>\n",
       "      <th>3</th>\n",
       "      <td>891689557279858688</td>\n",
       "      <td>2017-07-30 15:58:51 +0000</td>\n",
       "      <td>&lt;a href=\"http://twitter.com/download/iphone\" r...</td>\n",
       "      <td>This is Darla. She commenced a snooze mid meal...</td>\n",
       "      <td>https://twitter.com/dog_rates/status/891689557...</td>\n",
       "      <td>Darla</td>\n",
       "      <td>None</td>\n",
       "      <td>1.0</td>\n",
       "      <td>NaN</td>\n",
       "      <td>NaN</td>\n",
       "      <td>NaN</td>\n",
       "      <td>NaN</td>\n",
       "    </tr>\n",
       "    <tr>\n",
       "      <th>4</th>\n",
       "      <td>891327558926688256</td>\n",
       "      <td>2017-07-29 16:00:24 +0000</td>\n",
       "      <td>&lt;a href=\"http://twitter.com/download/iphone\" r...</td>\n",
       "      <td>This is Franklin. He would like you to stop ca...</td>\n",
       "      <td>https://twitter.com/dog_rates/status/891327558...</td>\n",
       "      <td>Franklin</td>\n",
       "      <td>None</td>\n",
       "      <td>1.0</td>\n",
       "      <td>https://pbs.twimg.com/media/DF6hr6BUMAAzZgT.jpg</td>\n",
       "      <td>basset</td>\n",
       "      <td>NaN</td>\n",
       "      <td>NaN</td>\n",
       "    </tr>\n",
       "  </tbody>\n",
       "</table>\n",
       "</div>"
      ],
      "text/plain": [
       "             tweet_id                  timestamp  \\\n",
       "0  892420643555336193  2017-08-01 16:23:56 +0000   \n",
       "1  892177421306343426  2017-08-01 00:17:27 +0000   \n",
       "2  891815181378084864  2017-07-31 00:18:03 +0000   \n",
       "3  891689557279858688  2017-07-30 15:58:51 +0000   \n",
       "4  891327558926688256  2017-07-29 16:00:24 +0000   \n",
       "\n",
       "                                              source  \\\n",
       "0  <a href=\"http://twitter.com/download/iphone\" r...   \n",
       "1  <a href=\"http://twitter.com/download/iphone\" r...   \n",
       "2  <a href=\"http://twitter.com/download/iphone\" r...   \n",
       "3  <a href=\"http://twitter.com/download/iphone\" r...   \n",
       "4  <a href=\"http://twitter.com/download/iphone\" r...   \n",
       "\n",
       "                                                text  \\\n",
       "0  This is Phineas. He's a mystical boy. Only eve...   \n",
       "1  This is Tilly. She's just checking pup on you....   \n",
       "2  This is Archie. He is a rare Norwegian Pouncin...   \n",
       "3  This is Darla. She commenced a snooze mid meal...   \n",
       "4  This is Franklin. He would like you to stop ca...   \n",
       "\n",
       "                                       expanded_urls      name Dog_type  \\\n",
       "0  https://twitter.com/dog_rates/status/892420643...   Phineas     None   \n",
       "1  https://twitter.com/dog_rates/status/892177421...     Tilly     None   \n",
       "2  https://twitter.com/dog_rates/status/891815181...    Archie     None   \n",
       "3  https://twitter.com/dog_rates/status/891689557...     Darla     None   \n",
       "4  https://twitter.com/dog_rates/status/891327558...  Franklin     None   \n",
       "\n",
       "   Rating                                          jpg_url      Breed  \\\n",
       "0     1.0                                              NaN        NaN   \n",
       "1     1.0  https://pbs.twimg.com/media/DGGmoV4XsAAUL6n.jpg  Chihuahua   \n",
       "2     1.0  https://pbs.twimg.com/media/DGBdLU1WsAANxJ9.jpg  Chihuahua   \n",
       "3     1.0                                              NaN        NaN   \n",
       "4     1.0  https://pbs.twimg.com/media/DF6hr6BUMAAzZgT.jpg     basset   \n",
       "\n",
       "   retweet_count  favorite_count  \n",
       "0            NaN             NaN  \n",
       "1            NaN             NaN  \n",
       "2            NaN             NaN  \n",
       "3            NaN             NaN  \n",
       "4            NaN             NaN  "
      ]
     },
     "execution_count": 51,
     "metadata": {},
     "output_type": "execute_result"
    }
   ],
   "source": [
    "# inspect new dataframe\n",
    "master_df.head()"
   ]
  },
  {
   "cell_type": "code",
   "execution_count": 286,
   "id": "5b9f6f60",
   "metadata": {},
   "outputs": [],
   "source": [
    "#export file\n",
    "master_df.to_csv('/Users/michaelmohle/Desktop/D309/twitter_archive_master.csv')"
   ]
  },
  {
   "cell_type": "code",
   "execution_count": null,
   "id": "036378cd",
   "metadata": {},
   "outputs": [],
   "source": []
  },
  {
   "cell_type": "code",
   "execution_count": null,
   "id": "93fb62ec",
   "metadata": {},
   "outputs": [],
   "source": [
    "master_df = master_df.rename(columns = {'p1':'Breed'})"
   ]
  },
  {
   "cell_type": "code",
   "execution_count": 52,
   "id": "cb6d326e",
   "metadata": {},
   "outputs": [
    {
     "data": {
      "text/html": [
       "<div>\n",
       "<style scoped>\n",
       "    .dataframe tbody tr th:only-of-type {\n",
       "        vertical-align: middle;\n",
       "    }\n",
       "\n",
       "    .dataframe tbody tr th {\n",
       "        vertical-align: top;\n",
       "    }\n",
       "\n",
       "    .dataframe thead th {\n",
       "        text-align: right;\n",
       "    }\n",
       "</style>\n",
       "<table border=\"1\" class=\"dataframe\">\n",
       "  <thead>\n",
       "    <tr style=\"text-align: right;\">\n",
       "      <th></th>\n",
       "      <th>tweet_id</th>\n",
       "      <th>timestamp</th>\n",
       "      <th>source</th>\n",
       "      <th>text</th>\n",
       "      <th>expanded_urls</th>\n",
       "      <th>name</th>\n",
       "      <th>Dog_type</th>\n",
       "      <th>Rating</th>\n",
       "      <th>jpg_url</th>\n",
       "      <th>Breed</th>\n",
       "      <th>retweet_count</th>\n",
       "      <th>favorite_count</th>\n",
       "    </tr>\n",
       "  </thead>\n",
       "  <tbody>\n",
       "    <tr>\n",
       "      <th>0</th>\n",
       "      <td>892420643555336193</td>\n",
       "      <td>2017-08-01 16:23:56 +0000</td>\n",
       "      <td>&lt;a href=\"http://twitter.com/download/iphone\" r...</td>\n",
       "      <td>This is Phineas. He's a mystical boy. Only eve...</td>\n",
       "      <td>https://twitter.com/dog_rates/status/892420643...</td>\n",
       "      <td>Phineas</td>\n",
       "      <td>None</td>\n",
       "      <td>1.0</td>\n",
       "      <td>NaN</td>\n",
       "      <td>NaN</td>\n",
       "      <td>NaN</td>\n",
       "      <td>NaN</td>\n",
       "    </tr>\n",
       "    <tr>\n",
       "      <th>1</th>\n",
       "      <td>892177421306343426</td>\n",
       "      <td>2017-08-01 00:17:27 +0000</td>\n",
       "      <td>&lt;a href=\"http://twitter.com/download/iphone\" r...</td>\n",
       "      <td>This is Tilly. She's just checking pup on you....</td>\n",
       "      <td>https://twitter.com/dog_rates/status/892177421...</td>\n",
       "      <td>Tilly</td>\n",
       "      <td>None</td>\n",
       "      <td>1.0</td>\n",
       "      <td>https://pbs.twimg.com/media/DGGmoV4XsAAUL6n.jpg</td>\n",
       "      <td>Chihuahua</td>\n",
       "      <td>NaN</td>\n",
       "      <td>NaN</td>\n",
       "    </tr>\n",
       "    <tr>\n",
       "      <th>2</th>\n",
       "      <td>891815181378084864</td>\n",
       "      <td>2017-07-31 00:18:03 +0000</td>\n",
       "      <td>&lt;a href=\"http://twitter.com/download/iphone\" r...</td>\n",
       "      <td>This is Archie. He is a rare Norwegian Pouncin...</td>\n",
       "      <td>https://twitter.com/dog_rates/status/891815181...</td>\n",
       "      <td>Archie</td>\n",
       "      <td>None</td>\n",
       "      <td>1.0</td>\n",
       "      <td>https://pbs.twimg.com/media/DGBdLU1WsAANxJ9.jpg</td>\n",
       "      <td>Chihuahua</td>\n",
       "      <td>NaN</td>\n",
       "      <td>NaN</td>\n",
       "    </tr>\n",
       "    <tr>\n",
       "      <th>3</th>\n",
       "      <td>891689557279858688</td>\n",
       "      <td>2017-07-30 15:58:51 +0000</td>\n",
       "      <td>&lt;a href=\"http://twitter.com/download/iphone\" r...</td>\n",
       "      <td>This is Darla. She commenced a snooze mid meal...</td>\n",
       "      <td>https://twitter.com/dog_rates/status/891689557...</td>\n",
       "      <td>Darla</td>\n",
       "      <td>None</td>\n",
       "      <td>1.0</td>\n",
       "      <td>NaN</td>\n",
       "      <td>NaN</td>\n",
       "      <td>NaN</td>\n",
       "      <td>NaN</td>\n",
       "    </tr>\n",
       "    <tr>\n",
       "      <th>4</th>\n",
       "      <td>891327558926688256</td>\n",
       "      <td>2017-07-29 16:00:24 +0000</td>\n",
       "      <td>&lt;a href=\"http://twitter.com/download/iphone\" r...</td>\n",
       "      <td>This is Franklin. He would like you to stop ca...</td>\n",
       "      <td>https://twitter.com/dog_rates/status/891327558...</td>\n",
       "      <td>Franklin</td>\n",
       "      <td>None</td>\n",
       "      <td>1.0</td>\n",
       "      <td>https://pbs.twimg.com/media/DF6hr6BUMAAzZgT.jpg</td>\n",
       "      <td>basset</td>\n",
       "      <td>NaN</td>\n",
       "      <td>NaN</td>\n",
       "    </tr>\n",
       "  </tbody>\n",
       "</table>\n",
       "</div>"
      ],
      "text/plain": [
       "             tweet_id                  timestamp  \\\n",
       "0  892420643555336193  2017-08-01 16:23:56 +0000   \n",
       "1  892177421306343426  2017-08-01 00:17:27 +0000   \n",
       "2  891815181378084864  2017-07-31 00:18:03 +0000   \n",
       "3  891689557279858688  2017-07-30 15:58:51 +0000   \n",
       "4  891327558926688256  2017-07-29 16:00:24 +0000   \n",
       "\n",
       "                                              source  \\\n",
       "0  <a href=\"http://twitter.com/download/iphone\" r...   \n",
       "1  <a href=\"http://twitter.com/download/iphone\" r...   \n",
       "2  <a href=\"http://twitter.com/download/iphone\" r...   \n",
       "3  <a href=\"http://twitter.com/download/iphone\" r...   \n",
       "4  <a href=\"http://twitter.com/download/iphone\" r...   \n",
       "\n",
       "                                                text  \\\n",
       "0  This is Phineas. He's a mystical boy. Only eve...   \n",
       "1  This is Tilly. She's just checking pup on you....   \n",
       "2  This is Archie. He is a rare Norwegian Pouncin...   \n",
       "3  This is Darla. She commenced a snooze mid meal...   \n",
       "4  This is Franklin. He would like you to stop ca...   \n",
       "\n",
       "                                       expanded_urls      name Dog_type  \\\n",
       "0  https://twitter.com/dog_rates/status/892420643...   Phineas     None   \n",
       "1  https://twitter.com/dog_rates/status/892177421...     Tilly     None   \n",
       "2  https://twitter.com/dog_rates/status/891815181...    Archie     None   \n",
       "3  https://twitter.com/dog_rates/status/891689557...     Darla     None   \n",
       "4  https://twitter.com/dog_rates/status/891327558...  Franklin     None   \n",
       "\n",
       "   Rating                                          jpg_url      Breed  \\\n",
       "0     1.0                                              NaN        NaN   \n",
       "1     1.0  https://pbs.twimg.com/media/DGGmoV4XsAAUL6n.jpg  Chihuahua   \n",
       "2     1.0  https://pbs.twimg.com/media/DGBdLU1WsAANxJ9.jpg  Chihuahua   \n",
       "3     1.0                                              NaN        NaN   \n",
       "4     1.0  https://pbs.twimg.com/media/DF6hr6BUMAAzZgT.jpg     basset   \n",
       "\n",
       "   retweet_count  favorite_count  \n",
       "0            NaN             NaN  \n",
       "1            NaN             NaN  \n",
       "2            NaN             NaN  \n",
       "3            NaN             NaN  \n",
       "4            NaN             NaN  "
      ]
     },
     "execution_count": 52,
     "metadata": {},
     "output_type": "execute_result"
    }
   ],
   "source": [
    "# inspect new dataFrame\n",
    "master_df.head()"
   ]
  },
  {
   "cell_type": "code",
   "execution_count": 58,
   "id": "e2f94edd",
   "metadata": {},
   "outputs": [],
   "source": [
    "#export datafrane as part of project srtifsct\n",
    "master_df.to_csv('/Users/michaelmohle/Desktop/D309/twitter_archive master.csv', index = False)"
   ]
  },
  {
   "cell_type": "markdown",
   "id": "e4866af3",
   "metadata": {},
   "source": [
    "# Vizualazations of master Dataframe to support findings"
   ]
  },
  {
   "cell_type": "markdown",
   "id": "4adfc181",
   "metadata": {},
   "source": [
    "Vizualazations of Data\n",
    "!) most popular dog breed\n",
    "2) most popular top type\n",
    "\n"
   ]
  },
  {
   "cell_type": "code",
   "execution_count": 54,
   "id": "313a98cb",
   "metadata": {
    "scrolled": true
   },
   "outputs": [
    {
     "data": {
      "text/plain": [
       "Text(0.5, 1.0, 'Top 5 most Common Dog Breeds')"
      ]
     },
     "execution_count": 54,
     "metadata": {},
     "output_type": "execute_result"
    },
    {
     "data": {
      "image/png": "[encoded data removed]",
      "text/plain": [
       "<Figure size 432x288 with 1 Axes>"
      ]
     },
     "metadata": {
      "needs_background": "light"
     },
     "output_type": "display_data"
    }
   ],
   "source": [
    "# most popular dog breeds\n",
    "a = master_df['Breed'].value_counts()[:5]\n",
    "a.plot(kind ='bar')\n",
    "plt.title(\"Top 5 most Common Dog Breeds\")"
   ]
  },
  {
   "cell_type": "code",
   "execution_count": 55,
   "id": "efef5b30",
   "metadata": {},
   "outputs": [
    {
     "data": {
      "text/plain": [
       "Text(0.5, 1.0, 'Most Common Dog types')"
      ]
     },
     "execution_count": 55,
     "metadata": {},
     "output_type": "execute_result"
    },
    {
     "data": {
      "image/png": "[encoded data removed]",
      "text/plain": [
       "<Figure size 432x288 with 1 Axes>"
      ]
     },
     "metadata": {
      "needs_background": "light"
     },
     "output_type": "display_data"
    }
   ],
   "source": [
    "# most popular dog type\n",
    "a = master_df['Dog_type'].value_counts()[1:5]\n",
    "a.plot(kind ='bar')\n",
    "plt.title(\"Most Common Dog types\")"
   ]
  },
  {
   "cell_type": "code",
   "execution_count": 77,
   "id": "9a1adff1",
   "metadata": {},
   "outputs": [
    {
     "data": {
      "text/plain": [
       "Series([], Name: retweet_count, dtype: int64)"
      ]
     },
     "execution_count": 77,
     "metadata": {},
     "output_type": "execute_result"
    }
   ],
   "source": [
    "master_df['retweet_count'].value_counts()"
   ]
  },
  {
   "cell_type": "code",
   "execution_count": null,
   "id": "167020f3",
   "metadata": {},
   "outputs": [],
   "source": []
  },
  {
   "cell_type": "code",
   "execution_count": 57,
   "id": "c6bd0a97",
   "metadata": {},
   "outputs": [
    {
     "data": {
      "text/plain": [
       "Text(0.5, 1.0, 'Highest rated Catagory')"
      ]
     },
     "execution_count": 57,
     "metadata": {},
     "output_type": "execute_result"
    },
    {
     "data": {
      "image/png": "[encoded data removed]",
      "text/plain": [
       "<Figure size 432x288 with 1 Axes>"
      ]
     },
     "metadata": {
      "needs_background": "light"
     },
     "output_type": "display_data"
    }
   ],
   "source": [
    "x = pd.pivot_table (master_df, index =['Dog_type'],\\\n",
    "                    values = ['Rating'], \\\n",
    "                    aggfunc = np.mean ).sort_values ('Rating',ascending=False)\n",
    "\n",
    "x.plot(kind ='bar')\n",
    "plt.ylim(.7,1.1)\n",
    "plt.title(\"Highest rated Catagory\")"
   ]
  },
  {
   "cell_type": "code",
   "execution_count": null,
   "id": "0bf00c3c",
   "metadata": {},
   "outputs": [],
   "source": []
  }
 ],
 "metadata": {
  "celltoolbar": "Tags",
  "kernelspec": {
   "display_name": "Python 3",
   "language": "python",
   "name": "python3"
  },
  "language_info": {
   "codemirror_mode": {
    "name": "ipython",
    "version": 3
   },
   "file_extension": ".py",
   "mimetype": "text/x-python",
   "name": "python",
   "nbconvert_exporter": "python",
   "pygments_lexer": "ipython3",
   "version": "3.8.8"
  }
 },
 "nbformat": 4,
 "nbformat_minor": 5
}
